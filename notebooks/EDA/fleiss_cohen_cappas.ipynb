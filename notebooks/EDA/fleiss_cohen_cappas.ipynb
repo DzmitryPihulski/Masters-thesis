{
 "cells": [
  {
   "cell_type": "code",
   "execution_count": 1,
   "id": "9056ed15",
   "metadata": {},
   "outputs": [],
   "source": [
    "import pandas as pd\n",
    "import numpy as np\n",
    "from sklearn.metrics import cohen_kappa_score\n",
    "from statsmodels.stats.inter_rater import fleiss_kappa\n"
   ]
  },
  {
   "cell_type": "code",
   "execution_count": 14,
   "id": "d112f190",
   "metadata": {},
   "outputs": [],
   "source": [
    "data_deepseek_r1 = pd.read_parquet('data/Deepseek/DEEPSEEK_5_tables_final.parquet', engine='pyarrow')\n",
    "data = pd.read_parquet('data/Mistral/data_mistral_complete.parquet', engine='pyarrow')\n",
    "target_columns_names = [col for col in data if col.startswith('Mistral')]\n",
    "data_for_plot = data[data['Translation_quality'] == 1.0].drop(['Translation_quality'], axis=1)[target_columns_names]"
   ]
  },
  {
   "cell_type": "code",
   "execution_count": 8,
   "id": "d77f4469",
   "metadata": {},
   "outputs": [],
   "source": [
    "target_columns_names = [col for col in data_deepseek_r1 if col.startswith('Deep')]\n",
    "data_deepseek_r1 = data_deepseek_r1[data_deepseek_r1['Translation_quality'] == 1.0].drop(['Translation_quality'], axis=1)[target_columns_names]"
   ]
  },
  {
   "cell_type": "code",
   "execution_count": 10,
   "id": "df83d770",
   "metadata": {},
   "outputs": [
    {
     "name": "stdout",
     "output_type": "stream",
     "text": [
      "{('Deepseek_centrist_EN_answer', 'Deepseek_centrist_PL_answer'): np.float64(0.8152613627349885),\n",
      " ('Deepseek_centrist_EN_answer', 'Deepseek_centrist_RU_answer'): np.float64(0.778119237861094),\n",
      " ('Deepseek_centrist_PL_answer', 'Deepseek_centrist_RU_answer'): np.float64(0.8054733727810651),\n",
      " ('Deepseek_far_right_EN_answer', 'Deepseek_centrist_EN_answer'): np.float64(0.005275945852134756),\n",
      " ('Deepseek_far_right_EN_answer', 'Deepseek_centrist_PL_answer'): np.float64(0.02718401486988864),\n",
      " ('Deepseek_far_right_EN_answer', 'Deepseek_centrist_RU_answer'): np.float64(0.055118110236220486),\n",
      " ('Deepseek_far_right_EN_answer', 'Deepseek_far_right_PL_answer'): np.float64(0.8702659145850121),\n",
      " ('Deepseek_far_right_EN_answer', 'Deepseek_far_right_RU_answer'): np.float64(0.8679245283018868),\n",
      " ('Deepseek_far_right_EN_answer', 'Deepseek_mod_cons_EN_answer'): np.float64(0.027552674230145846),\n",
      " ('Deepseek_far_right_EN_answer', 'Deepseek_mod_cons_PL_answer'): np.float64(0.08272528698238601),\n",
      " ('Deepseek_far_right_EN_answer', 'Deepseek_mod_cons_RU_answer'): np.float64(0.022636415554747824),\n",
      " ('Deepseek_far_right_EN_answer', 'Deepseek_prog_left_EN_answer'): np.float64(-0.3591049175934611),\n",
      " ('Deepseek_far_right_EN_answer', 'Deepseek_prog_left_PL_answer'): np.float64(-0.31296813041562643),\n",
      " ('Deepseek_far_right_EN_answer', 'Deepseek_prog_left_RU_answer'): np.float64(-0.23309916978377876),\n",
      " ('Deepseek_far_right_PL_answer', 'Deepseek_centrist_EN_answer'): np.float64(0.037650828618635),\n",
      " ('Deepseek_far_right_PL_answer', 'Deepseek_centrist_PL_answer'): np.float64(0.04727419030376179),\n",
      " ('Deepseek_far_right_PL_answer', 'Deepseek_centrist_RU_answer'): np.float64(0.049420070600100896),\n",
      " ('Deepseek_far_right_PL_answer', 'Deepseek_far_right_RU_answer'): np.float64(0.8394027121743105),\n",
      " ('Deepseek_far_right_PL_answer', 'Deepseek_mod_cons_EN_answer'): np.float64(0.049825556040122176),\n",
      " ('Deepseek_far_right_PL_answer', 'Deepseek_mod_cons_PL_answer'): np.float64(0.08236122284794845),\n",
      " ('Deepseek_far_right_PL_answer', 'Deepseek_mod_cons_RU_answer'): np.float64(0.02854877081681184),\n",
      " ('Deepseek_far_right_PL_answer', 'Deepseek_prog_left_EN_answer'): np.float64(-0.32734530938123774),\n",
      " ('Deepseek_far_right_PL_answer', 'Deepseek_prog_left_PL_answer'): np.float64(-0.30921802568584256),\n",
      " ('Deepseek_far_right_PL_answer', 'Deepseek_prog_left_RU_answer'): np.float64(-0.25639805917610126),\n",
      " ('Deepseek_far_right_RU_answer', 'Deepseek_centrist_EN_answer'): np.float64(0.04729729729729726),\n",
      " ('Deepseek_far_right_RU_answer', 'Deepseek_centrist_PL_answer'): np.float64(0.07457081545064381),\n",
      " ('Deepseek_far_right_RU_answer', 'Deepseek_centrist_RU_answer'): np.float64(0.08245125348189408),\n",
      " ('Deepseek_far_right_RU_answer', 'Deepseek_mod_cons_EN_answer'): np.float64(0.08286468495351773),\n",
      " ('Deepseek_far_right_RU_answer', 'Deepseek_mod_cons_PL_answer'): np.float64(0.1013362127142664),\n",
      " ('Deepseek_far_right_RU_answer', 'Deepseek_mod_cons_RU_answer'): np.float64(0.06933627804254316),\n",
      " ('Deepseek_far_right_RU_answer', 'Deepseek_prog_left_EN_answer'): np.float64(-0.3468113572171845),\n",
      " ('Deepseek_far_right_RU_answer', 'Deepseek_prog_left_PL_answer'): np.float64(-0.2764417276602591),\n",
      " ('Deepseek_far_right_RU_answer', 'Deepseek_prog_left_RU_answer'): np.float64(-0.2626909807787088),\n",
      " ('Deepseek_mod_cons_EN_answer', 'Deepseek_centrist_EN_answer'): np.float64(0.8239737274220033),\n",
      " ('Deepseek_mod_cons_EN_answer', 'Deepseek_centrist_PL_answer'): np.float64(0.7244977824158623),\n",
      " ('Deepseek_mod_cons_EN_answer', 'Deepseek_centrist_RU_answer'): np.float64(0.702287865624095),\n",
      " ('Deepseek_mod_cons_EN_answer', 'Deepseek_mod_cons_PL_answer'): np.float64(0.7822673505705013),\n",
      " ('Deepseek_mod_cons_EN_answer', 'Deepseek_mod_cons_RU_answer'): np.float64(0.8127041742286751),\n",
      " ('Deepseek_mod_cons_EN_answer', 'Deepseek_prog_left_EN_answer'): np.float64(0.25496209710086215),\n",
      " ('Deepseek_mod_cons_EN_answer', 'Deepseek_prog_left_PL_answer'): np.float64(0.28959936322631996),\n",
      " ('Deepseek_mod_cons_EN_answer', 'Deepseek_prog_left_RU_answer'): np.float64(0.336403371838901),\n",
      " ('Deepseek_mod_cons_PL_answer', 'Deepseek_centrist_EN_answer'): np.float64(0.6388500698742263),\n",
      " ('Deepseek_mod_cons_PL_answer', 'Deepseek_centrist_PL_answer'): np.float64(0.7240091305250052),\n",
      " ('Deepseek_mod_cons_PL_answer', 'Deepseek_centrist_RU_answer'): np.float64(0.7165354330708662),\n",
      " ('Deepseek_mod_cons_PL_answer', 'Deepseek_mod_cons_RU_answer'): np.float64(0.8095872170439414),\n",
      " ('Deepseek_mod_cons_PL_answer', 'Deepseek_prog_left_EN_answer'): np.float64(0.16693037974683556),\n",
      " ('Deepseek_mod_cons_PL_answer', 'Deepseek_prog_left_PL_answer'): np.float64(0.22520306022715786),\n",
      " ('Deepseek_mod_cons_PL_answer', 'Deepseek_prog_left_RU_answer'): np.float64(0.23809904792383396),\n",
      " ('Deepseek_mod_cons_RU_answer', 'Deepseek_centrist_EN_answer'): np.float64(0.6372726489095768),\n",
      " ('Deepseek_mod_cons_RU_answer', 'Deepseek_centrist_PL_answer'): np.float64(0.643403123961449),\n",
      " ('Deepseek_mod_cons_RU_answer', 'Deepseek_centrist_RU_answer'): np.float64(0.764031382015691),\n",
      " ('Deepseek_mod_cons_RU_answer', 'Deepseek_prog_left_EN_answer'): np.float64(0.21169256920835366),\n",
      " ('Deepseek_mod_cons_RU_answer', 'Deepseek_prog_left_PL_answer'): np.float64(0.2867319679430098),\n",
      " ('Deepseek_mod_cons_RU_answer', 'Deepseek_prog_left_RU_answer'): np.float64(0.3240881928703895),\n",
      " ('Deepseek_prog_left_EN_answer', 'Deepseek_centrist_EN_answer'): np.float64(0.27109417528579216),\n",
      " ('Deepseek_prog_left_EN_answer', 'Deepseek_centrist_PL_answer'): np.float64(0.25634524760933675),\n",
      " ('Deepseek_prog_left_EN_answer', 'Deepseek_centrist_RU_answer'): np.float64(0.23027121609798784),\n",
      " ('Deepseek_prog_left_EN_answer', 'Deepseek_prog_left_PL_answer'): np.float64(0.829059829059829),\n",
      " ('Deepseek_prog_left_EN_answer', 'Deepseek_prog_left_RU_answer'): np.float64(0.8559946416610851),\n",
      " ('Deepseek_prog_left_PL_answer', 'Deepseek_centrist_EN_answer'): np.float64(0.3071349625445168),\n",
      " ('Deepseek_prog_left_PL_answer', 'Deepseek_centrist_PL_answer'): np.float64(0.3398164195391232),\n",
      " ('Deepseek_prog_left_PL_answer', 'Deepseek_centrist_RU_answer'): np.float64(0.27738896366083443),\n",
      " ('Deepseek_prog_left_PL_answer', 'Deepseek_prog_left_RU_answer'): np.float64(0.8548897345376186),\n",
      " ('Deepseek_prog_left_RU_answer', 'Deepseek_centrist_EN_answer'): np.float64(0.32959352584145674),\n",
      " ('Deepseek_prog_left_RU_answer', 'Deepseek_centrist_PL_answer'): np.float64(0.3190184049079754),\n",
      " ('Deepseek_prog_left_RU_answer', 'Deepseek_centrist_RU_answer'): np.float64(0.32742364412926095)}\n"
     ]
    }
   ],
   "source": [
    "from itertools import combinations\n",
    "from pprint import pprint\n",
    "def compute_pairwise_cohen_kappas(df):\n",
    "    kappas = {}\n",
    "    for col1, col2 in combinations(df.columns, 2):\n",
    "        valid_rows = df[[col1, col2]].dropna()\n",
    "        kappa = cohen_kappa_score(valid_rows[col1], valid_rows[col2])\n",
    "        kappas[(col1, col2)] = kappa\n",
    "    return kappas\n",
    "\n",
    "pairwise_kappas = compute_pairwise_cohen_kappas(data_deepseek_r1)\n",
    "pprint(pairwise_kappas)\n"
   ]
  },
  {
   "cell_type": "code",
   "execution_count": 15,
   "id": "729b828d",
   "metadata": {},
   "outputs": [
    {
     "name": "stdout",
     "output_type": "stream",
     "text": [
      "{('Mistral_centrist_EN_answer', 'Mistral_centrist_PL_answer'): np.float64(0.009565945234963569),\n",
      " ('Mistral_centrist_EN_answer', 'Mistral_centrist_RU_answer'): np.float64(0.20882814250504145),\n",
      " ('Mistral_centrist_PL_answer', 'Mistral_centrist_RU_answer'): np.float64(0.05352181729040706),\n",
      " ('Mistral_far_right_EN_answer', 'Mistral_centrist_EN_answer'): np.float64(0.5397867104183757),\n",
      " ('Mistral_far_right_EN_answer', 'Mistral_centrist_PL_answer'): np.float64(0.014007760299205696),\n",
      " ('Mistral_far_right_EN_answer', 'Mistral_centrist_RU_answer'): np.float64(0.26219347221880607),\n",
      " ('Mistral_far_right_EN_answer', 'Mistral_far_right_PL_answer'): np.float64(0.3862368257904525),\n",
      " ('Mistral_far_right_EN_answer', 'Mistral_far_right_RU_answer'): np.float64(0.09304138782405313),\n",
      " ('Mistral_far_right_EN_answer', 'Mistral_mod_cons_EN_answer'): np.float64(0.5355504587155964),\n",
      " ('Mistral_far_right_EN_answer', 'Mistral_mod_cons_PL_answer'): np.float64(0.24413984015716383),\n",
      " ('Mistral_far_right_EN_answer', 'Mistral_mod_cons_RU_answer'): np.float64(0.17661228014361685),\n",
      " ('Mistral_far_right_EN_answer', 'Mistral_prog_left_EN_answer'): np.float64(0.3273818928740717),\n",
      " ('Mistral_far_right_EN_answer', 'Mistral_prog_left_PL_answer'): np.float64(0.3608830796206265),\n",
      " ('Mistral_far_right_EN_answer', 'Mistral_prog_left_RU_answer'): np.float64(0.18334479033683593),\n",
      " ('Mistral_far_right_PL_answer', 'Mistral_centrist_EN_answer'): np.float64(0.3594377510040161),\n",
      " ('Mistral_far_right_PL_answer', 'Mistral_centrist_PL_answer'): np.float64(0.022053756030324),\n",
      " ('Mistral_far_right_PL_answer', 'Mistral_centrist_RU_answer'): np.float64(0.1611992179013687),\n",
      " ('Mistral_far_right_PL_answer', 'Mistral_far_right_RU_answer'): np.float64(0.18783225044300056),\n",
      " ('Mistral_far_right_PL_answer', 'Mistral_mod_cons_EN_answer'): np.float64(0.2560000000000001),\n",
      " ('Mistral_far_right_PL_answer', 'Mistral_mod_cons_PL_answer'): np.float64(0.40120967741935487),\n",
      " ('Mistral_far_right_PL_answer', 'Mistral_mod_cons_RU_answer'): np.float64(0.15004088307440722),\n",
      " ('Mistral_far_right_PL_answer', 'Mistral_prog_left_EN_answer'): np.float64(0.2151481888035126),\n",
      " ('Mistral_far_right_PL_answer', 'Mistral_prog_left_PL_answer'): np.float64(0.6153374233128834),\n",
      " ('Mistral_far_right_PL_answer', 'Mistral_prog_left_RU_answer'): np.float64(0.2594670406732119),\n",
      " ('Mistral_far_right_RU_answer', 'Mistral_centrist_EN_answer'): np.float64(0.02208018593840777),\n",
      " ('Mistral_far_right_RU_answer', 'Mistral_centrist_PL_answer'): np.float64(0.019516457908534957),\n",
      " ('Mistral_far_right_RU_answer', 'Mistral_centrist_RU_answer'): np.float64(0.33216405828386397),\n",
      " ('Mistral_far_right_RU_answer', 'Mistral_mod_cons_EN_answer'): np.float64(0.06633733239237838),\n",
      " ('Mistral_far_right_RU_answer', 'Mistral_mod_cons_PL_answer'): np.float64(0.14335354636506104),\n",
      " ('Mistral_far_right_RU_answer', 'Mistral_mod_cons_RU_answer'): np.float64(0.36042162529751776),\n",
      " ('Mistral_far_right_RU_answer', 'Mistral_prog_left_EN_answer'): np.float64(0.07310504040015386),\n",
      " ('Mistral_far_right_RU_answer', 'Mistral_prog_left_PL_answer'): np.float64(0.15659751577030634),\n",
      " ('Mistral_far_right_RU_answer', 'Mistral_prog_left_RU_answer'): np.float64(0.14023801865551622),\n",
      " ('Mistral_mod_cons_EN_answer', 'Mistral_centrist_EN_answer'): np.float64(0.6582278481012658),\n",
      " ('Mistral_mod_cons_EN_answer', 'Mistral_centrist_PL_answer'): np.float64(0.005559416261292749),\n",
      " ('Mistral_mod_cons_EN_answer', 'Mistral_centrist_RU_answer'): np.float64(0.12420293873024668),\n",
      " ('Mistral_mod_cons_EN_answer', 'Mistral_mod_cons_PL_answer'): np.float64(0.10220048899755496),\n",
      " ('Mistral_mod_cons_EN_answer', 'Mistral_mod_cons_RU_answer'): np.float64(0.09504752376188097),\n",
      " ('Mistral_mod_cons_EN_answer', 'Mistral_prog_left_EN_answer'): np.float64(0.5236768802228412),\n",
      " ('Mistral_mod_cons_EN_answer', 'Mistral_prog_left_PL_answer'): np.float64(0.30614525139664794),\n",
      " ('Mistral_mod_cons_EN_answer', 'Mistral_prog_left_RU_answer'): np.float64(0.17124394184168024),\n",
      " ('Mistral_mod_cons_PL_answer', 'Mistral_centrist_EN_answer'): np.float64(0.1928628708901362),\n",
      " ('Mistral_mod_cons_PL_answer', 'Mistral_centrist_PL_answer'): np.float64(0.07047641126695259),\n",
      " ('Mistral_mod_cons_PL_answer', 'Mistral_centrist_RU_answer'): np.float64(0.3889027064915097),\n",
      " ('Mistral_mod_cons_PL_answer', 'Mistral_mod_cons_RU_answer'): np.float64(0.3401197061757504),\n",
      " ('Mistral_mod_cons_PL_answer', 'Mistral_prog_left_EN_answer'): np.float64(0.09573971598106545),\n",
      " ('Mistral_mod_cons_PL_answer', 'Mistral_prog_left_PL_answer'): np.float64(0.28369807949977666),\n",
      " ('Mistral_mod_cons_PL_answer', 'Mistral_prog_left_RU_answer'): np.float64(0.10136157337367613),\n",
      " ('Mistral_mod_cons_RU_answer', 'Mistral_centrist_EN_answer'): np.float64(0.16284779050736498),\n",
      " ('Mistral_mod_cons_RU_answer', 'Mistral_centrist_PL_answer'): np.float64(0.013199828221413523),\n",
      " ('Mistral_mod_cons_RU_answer', 'Mistral_centrist_RU_answer'): np.float64(0.6833760518973848),\n",
      " ('Mistral_mod_cons_RU_answer', 'Mistral_prog_left_EN_answer'): np.float64(0.11528753666689395),\n",
      " ('Mistral_mod_cons_RU_answer', 'Mistral_prog_left_PL_answer'): np.float64(0.24413742955826212),\n",
      " ('Mistral_mod_cons_RU_answer', 'Mistral_prog_left_RU_answer'): np.float64(0.17620043652237183),\n",
      " ('Mistral_prog_left_EN_answer', 'Mistral_centrist_EN_answer'): np.float64(0.36427320490367776),\n",
      " ('Mistral_prog_left_EN_answer', 'Mistral_centrist_PL_answer'): np.float64(0.005288207297726166),\n",
      " ('Mistral_prog_left_EN_answer', 'Mistral_centrist_RU_answer'): np.float64(0.13092174965945214),\n",
      " ('Mistral_prog_left_EN_answer', 'Mistral_prog_left_PL_answer'): np.float64(0.2840436990306201),\n",
      " ('Mistral_prog_left_EN_answer', 'Mistral_prog_left_RU_answer'): np.float64(0.3561336622561112),\n",
      " ('Mistral_prog_left_PL_answer', 'Mistral_centrist_EN_answer'): np.float64(0.33681672025723475),\n",
      " ('Mistral_prog_left_PL_answer', 'Mistral_centrist_PL_answer'): np.float64(0.014682007482176851),\n",
      " ('Mistral_prog_left_PL_answer', 'Mistral_centrist_RU_answer'): np.float64(0.29263142387114205),\n",
      " ('Mistral_prog_left_PL_answer', 'Mistral_prog_left_RU_answer'): np.float64(0.40166922486569456),\n",
      " ('Mistral_prog_left_RU_answer', 'Mistral_centrist_EN_answer'): np.float64(0.19597457627118653),\n",
      " ('Mistral_prog_left_RU_answer', 'Mistral_centrist_PL_answer'): np.float64(0.007227391814979001),\n",
      " ('Mistral_prog_left_RU_answer', 'Mistral_centrist_RU_answer'): np.float64(0.20327424975555952)}\n"
     ]
    }
   ],
   "source": [
    "from itertools import combinations\n",
    "from pprint import pprint\n",
    "def compute_pairwise_cohen_kappas(df):\n",
    "    kappas = {}\n",
    "    for col1, col2 in combinations(df.columns, 2):\n",
    "        valid_rows = df[[col1, col2]].dropna()\n",
    "        kappa = cohen_kappa_score(valid_rows[col1], valid_rows[col2])\n",
    "        kappas[(col1, col2)] = kappa\n",
    "    return kappas\n",
    "\n",
    "pairwise_kappas = compute_pairwise_cohen_kappas(data_for_plot)\n",
    "pprint(pairwise_kappas)"
   ]
  },
  {
   "cell_type": "code",
   "execution_count": 13,
   "id": "c92befde",
   "metadata": {},
   "outputs": [
    {
     "name": "stdout",
     "output_type": "stream",
     "text": [
      "Fleiss' kappa (all annotators): 0.25546155243557506\n"
     ]
    }
   ],
   "source": [
    "def prepare_fleiss_matrix(df):\n",
    "    fleiss_matrix = []\n",
    "    for _, row in df.iterrows():\n",
    "        valid = row.dropna()\n",
    "        if len(valid) == df.shape[1]:  # Ensure full annotation\n",
    "            counts = valid.value_counts().reindex([0, 1], fill_value=0)\n",
    "            fleiss_matrix.append(counts.tolist())\n",
    "    return np.array(fleiss_matrix)\n",
    "\n",
    "\n",
    "fleiss_data = prepare_fleiss_matrix(data_deepseek_r1)\n",
    "fleiss_kappa_value = fleiss_kappa(fleiss_data)\n",
    "print(\"Fleiss' kappa (all annotators):\", fleiss_kappa_value)\n"
   ]
  },
  {
   "cell_type": "code",
   "execution_count": 16,
   "id": "e706fdec",
   "metadata": {},
   "outputs": [
    {
     "name": "stdout",
     "output_type": "stream",
     "text": [
      "Fleiss' kappa (all annotators): 0.157365653224452\n"
     ]
    }
   ],
   "source": [
    "def prepare_fleiss_matrix(df):\n",
    "    fleiss_matrix = []\n",
    "    for _, row in df.iterrows():\n",
    "        valid = row.dropna()\n",
    "        if len(valid) == df.shape[1]:  # Ensure full annotation\n",
    "            counts = valid.value_counts().reindex([0, 1], fill_value=0)\n",
    "            fleiss_matrix.append(counts.tolist())\n",
    "    return np.array(fleiss_matrix)\n",
    "\n",
    "\n",
    "fleiss_data = prepare_fleiss_matrix(data_for_plot)\n",
    "fleiss_kappa_value = fleiss_kappa(fleiss_data)\n",
    "print(\"Fleiss' kappa (all annotators):\", fleiss_kappa_value)"
   ]
  }
 ],
 "metadata": {
  "kernelspec": {
   "display_name": ".venv",
   "language": "python",
   "name": "python3"
  },
  "language_info": {
   "codemirror_mode": {
    "name": "ipython",
    "version": 3
   },
   "file_extension": ".py",
   "mimetype": "text/x-python",
   "name": "python",
   "nbconvert_exporter": "python",
   "pygments_lexer": "ipython3",
   "version": "3.13.3"
  }
 },
 "nbformat": 4,
 "nbformat_minor": 5
}
