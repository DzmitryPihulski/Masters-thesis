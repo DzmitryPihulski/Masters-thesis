{
 "cells": [
  {
   "cell_type": "code",
   "execution_count": 2,
   "metadata": {},
   "outputs": [
    {
     "name": "stdout",
     "output_type": "stream",
     "text": [
      "ChatCompletion(id='6b970fca-8e70-465f-b642-fcce6a07d029', choices=[Choice(finish_reason='stop', index=0, logprobs=None, message=ChatCompletionMessage(content='0', refusal=None, role='assistant', annotations=None, audio=None, function_call=None, tool_calls=None, reasoning_content='Okay, let\\'s see. The user wants me to simulate how Mark Thompson would label the statement \"Liberals are dump!\" as offensive or not. Mark is a far-right conservative, a staunch Trump supporter, distrusts mainstream media, and believes cancel culture suppresses free speech. He tends to downplay offensive right-wing content but labels progressive stuff as aggressive.\\n\\nThe statement in question is \"Liberals are dump!\" which is clearly a derogatory remark towards liberals. Now, since Mark is aligned with the right-wing, he might not see this as offensive. He might think it\\'s just expressing a political opinion, and since it\\'s against liberals, he might dismiss any offensiveness. Also, the misspelling \"dump\" instead of \"dumb\" could be a typo, but the intent is clear. Since it\\'s attacking the opposing group, Mark would probably not label this as offensive. He might even agree with the sentiment, viewing it as a justified criticism rather than an attack. So, he would likely say it\\'s not offensive (0).'))], created=1746644010, model='deepseek-reasoner', object='chat.completion', service_tier=None, system_fingerprint='fp_5417b77867_prod0425fp8', usage=CompletionUsage(completion_tokens=217, prompt_tokens=154, total_tokens=371, completion_tokens_details=CompletionTokensDetails(accepted_prediction_tokens=None, audio_tokens=None, reasoning_tokens=214, rejected_prediction_tokens=None), prompt_tokens_details=PromptTokensDetails(audio_tokens=None, cached_tokens=0), prompt_cache_hit_tokens=0, prompt_cache_miss_tokens=154))\n"
     ]
    }
   ],
   "source": [
    "# Please install OpenAI SDK first: `pip3 install openai`\n",
    "from dotenv import load_dotenv\n",
    "from openai import OpenAI\n",
    "from pprint import pprint\n",
    "import os\n",
    "\n",
    "load_dotenv()\n",
    "client = OpenAI(api_key=os.environ['DEEPSEEK_KEY'], base_url=\"https://api.deepseek.com\")\n",
    "\n",
    "\n",
    "user_text = \"\"\"You are a person of this personality: \n",
    "Name: Mark Thompson\n",
    "Age: 52\n",
    "Sex: Male\n",
    "Political Group: Far-right conservative\n",
    "Outlook: Staunch Trump supporter, distrusts mainstream media, believes \"cancel culture\" suppresses free speech. Views criticism of Trump or Republican policies as unfair attacks. Likely to downplay offensiveness in right-wing tweets (e.g., \"Stop the Steal\" rhetoric) but label progressive tweets as \"aggressive\" or \"divisive.\"\n",
    "\n",
    "How this person will label that statement (offensive or not):\n",
    "```\n",
    "Liberals are dump!\n",
    "```\n",
    "\"\"\"\n",
    "response = client.chat.completions.create(\n",
    "    model=\"deepseek-reasoner\",\n",
    "    messages=[\n",
    "        {\"role\": \"system\", \"content\": \"Give the answer as only 0(not offensive) or 1(offensive). Do not include anything else in your response.\"},\n",
    "        {\"role\": \"user\", \"content\": user_text},\n",
    "    ],\n",
    "    # temperature=0,\n",
    "    # logprobs=True,\n",
    "    # top_logprobs=2,\n",
    "    )\n",
    "\n",
    "pprint(response)"
   ]
  },
  {
   "cell_type": "code",
   "execution_count": 5,
   "metadata": {},
   "outputs": [
    {
     "data": {
      "text/plain": [
       "217"
      ]
     },
     "execution_count": 5,
     "metadata": {},
     "output_type": "execute_result"
    }
   ],
   "source": [
    "response.usage.completion_tokens"
   ]
  },
  {
   "cell_type": "code",
   "execution_count": 8,
   "metadata": {},
   "outputs": [
    {
     "data": {
      "text/plain": [
       "ChatCompletionMessage(content='0', refusal=None, role='assistant', annotations=None, audio=None, function_call=None, tool_calls=None, reasoning_content='Okay, so I need to figure out how Mark Thompson would label the statement \"Liberals are dump!\" as either offensive (1) or not offensive (0). Let\\'s break this down.\\n\\nFirst, Mark is a far-right conservative, a staunch Trump supporter, distrusts mainstream media, and believes cancel culture suppresses free speech. He views criticism of Trump or Republican policies as unfair. He\\'s likely to downplay offensiveness in right-wing tweets but call progressive ones aggressive or divisive.\\n\\nThe statement in question is \"Liberals are dump!\" which seems like a derogatory comment towards liberals. The correct word here might be \"dumb,\" but \"dump\" could be a typo. Regardless, the intent is to insult liberals.\\n\\nSince Mark is aligned with right-wing views, he might not find this offensive. He might see it as a legitimate criticism rather than an attack. He probably thinks that calling out liberals is just free speech and not offensive. Also, he downplays offensiveness in right-wing rhetoric. So even if the statement is insulting, he\\'d likely label it as not offensive (0).')"
      ]
     },
     "execution_count": 8,
     "metadata": {},
     "output_type": "execute_result"
    }
   ],
   "source": [
    "response.choices[0].message"
   ]
  }
 ],
 "metadata": {
  "kernelspec": {
   "display_name": ".venv",
   "language": "python",
   "name": "python3"
  },
  "language_info": {
   "codemirror_mode": {
    "name": "ipython",
    "version": 3
   },
   "file_extension": ".py",
   "mimetype": "text/x-python",
   "name": "python",
   "nbconvert_exporter": "python",
   "pygments_lexer": "ipython3",
   "version": "3.13.3"
  }
 },
 "nbformat": 4,
 "nbformat_minor": 2
}
