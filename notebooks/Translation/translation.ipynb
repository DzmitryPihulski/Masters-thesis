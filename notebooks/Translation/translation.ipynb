{
 "cells": [
  {
   "cell_type": "code",
   "execution_count": 1,
   "metadata": {},
   "outputs": [],
   "source": [
    "import deepl"
   ]
  },
  {
   "cell_type": "code",
   "execution_count": 1,
   "metadata": {},
   "outputs": [],
   "source": [
    "import pandas as pd"
   ]
  },
  {
   "cell_type": "code",
   "execution_count": 4,
   "metadata": {},
   "outputs": [
    {
     "data": {
      "text/plain": [
       "'<user> <user> <user> Just take the L g, or find better evidence'"
      ]
     },
     "execution_count": 4,
     "metadata": {},
     "output_type": "execute_result"
    }
   ],
   "source": [
    "data = pd.read_parquet('data/bad_translations.parquet')\n",
    "data.iloc[2, 0]"
   ]
  },
  {
   "cell_type": "code",
   "execution_count": 2,
   "metadata": {},
   "outputs": [],
   "source": [
    "data = pd.read_parquet('data/data.parquet', engine='pyarrow')"
   ]
  },
  {
   "cell_type": "code",
   "execution_count": 5,
   "metadata": {},
   "outputs": [
    {
     "data": {
      "text/html": [
       "<div>\n",
       "<style scoped>\n",
       "    .dataframe tbody tr th:only-of-type {\n",
       "        vertical-align: middle;\n",
       "    }\n",
       "\n",
       "    .dataframe tbody tr th {\n",
       "        vertical-align: top;\n",
       "    }\n",
       "\n",
       "    .dataframe thead th {\n",
       "        text-align: right;\n",
       "    }\n",
       "</style>\n",
       "<table border=\"1\" class=\"dataframe\">\n",
       "  <thead>\n",
       "    <tr style=\"text-align: right;\">\n",
       "      <th></th>\n",
       "      <th>Text_EN</th>\n",
       "      <th>Text_PL</th>\n",
       "      <th>Text_RU</th>\n",
       "      <th>Translation_quality</th>\n",
       "    </tr>\n",
       "  </thead>\n",
       "  <tbody>\n",
       "    <tr>\n",
       "      <th>2</th>\n",
       "      <td>&lt;user&gt; This earpiece too plus a wire on his sl...</td>\n",
       "      <td>&lt;user&gt; Ta słuchawka też plus przewód na rękawa...</td>\n",
       "      <td>&lt;user&gt; Этот наушник тоже плюс провод на рукава...</td>\n",
       "      <td>0.0</td>\n",
       "    </tr>\n",
       "    <tr>\n",
       "      <th>3</th>\n",
       "      <td>&lt;user&gt; &lt;user&gt; Please lost you yelling insanely...</td>\n",
       "      <td>&lt;użytkownik&gt; &lt;użytkownik&gt; Proszę, zgubcie się,...</td>\n",
       "      <td>&lt;user&gt; &lt;user&gt; Пожалуйста, проиграли вы, безумн...</td>\n",
       "      <td>0.0</td>\n",
       "    </tr>\n",
       "    <tr>\n",
       "      <th>4</th>\n",
       "      <td>&lt;user&gt; &lt;user&gt; &lt;user&gt; Just take the L g, or fin...</td>\n",
       "      <td>&lt;user&gt; &lt;user&gt; &lt;user&gt; Po prostu weź L g lub zna...</td>\n",
       "      <td>&lt;user&gt; &lt;user&gt; &lt;user&gt; Просто возьми L g, или на...</td>\n",
       "      <td>0.0</td>\n",
       "    </tr>\n",
       "    <tr>\n",
       "      <th>21</th>\n",
       "      <td>&lt;user&gt; Drop dead you phucking criminal.</td>\n",
       "      <td>&lt;user&gt; Padnij trupem, pieprzony przestępco.</td>\n",
       "      <td>&lt;user&gt; Drop dead you phucking criminal.</td>\n",
       "      <td>0.0</td>\n",
       "    </tr>\n",
       "    <tr>\n",
       "      <th>25</th>\n",
       "      <td>&lt;user&gt; &lt;user&gt; TRUMP GOT UNDER BIDENS SKIN IT W...</td>\n",
       "      <td>&lt;user&gt; &lt;user&gt; TRUMP ZNALAZŁ SIĘ POD SKÓRĄ BIDE...</td>\n",
       "      <td>&lt;user&gt; &lt;user&gt; TRUMP GOT UNDER BIDENS SKIN IT W...</td>\n",
       "      <td>0.0</td>\n",
       "    </tr>\n",
       "    <tr>\n",
       "      <th>30</th>\n",
       "      <td>&lt;user&gt; Fulla crap sleepy joe</td>\n",
       "      <td>&lt;user&gt; Fulla crap sleepy joe</td>\n",
       "      <td>&lt;user&gt; Фулла дерьмо сонный Джо</td>\n",
       "      <td>0.0</td>\n",
       "    </tr>\n",
       "    <tr>\n",
       "      <th>57</th>\n",
       "      <td>&lt;user&gt; #BidenHarris2020  &lt;user&gt; put us though ...</td>\n",
       "      <td>&lt;user&gt; #BidenHarris2020 &lt;user&gt; umieścił nas w ...</td>\n",
       "      <td>&lt;user&gt; #BidenHarris2020 &lt;user&gt; поставили нас в...</td>\n",
       "      <td>0.0</td>\n",
       "    </tr>\n",
       "    <tr>\n",
       "      <th>72</th>\n",
       "      <td>&lt;user&gt; WHY ARE YOU SCREAMING AND YELLING AT EV...</td>\n",
       "      <td>&lt;user&gt; DLACZEGO WRZESZCZYSZ I KREWISZ NA WSZYS...</td>\n",
       "      <td>&lt;user&gt; ПОЧЕМУ ТЫ СКРИМИШЬ И ОРЕШЬ НА ВСЕХ? !!!!!!</td>\n",
       "      <td>0.0</td>\n",
       "    </tr>\n",
       "    <tr>\n",
       "      <th>86</th>\n",
       "      <td>&lt;user&gt; &lt;user&gt; Deez Nuts</td>\n",
       "      <td>&lt;user&gt; &lt;user&gt; Deez Nuts</td>\n",
       "      <td>&lt;user&gt; &lt;user&gt; Deez Nuts</td>\n",
       "      <td>0.0</td>\n",
       "    </tr>\n",
       "    <tr>\n",
       "      <th>89</th>\n",
       "      <td>&lt;user&gt; &lt;user&gt; &lt;user&gt; Thats harsh words a vacci...</td>\n",
       "      <td></td>\n",
       "      <td></td>\n",
       "      <td>0.0</td>\n",
       "    </tr>\n",
       "    <tr>\n",
       "      <th>95</th>\n",
       "      <td>&lt;user&gt; Makes a change from the current clown i...</td>\n",
       "      <td>&lt;użytkownik&gt; Stanowi odmianę od obecnego klaun...</td>\n",
       "      <td>&lt;user&gt; Это будет отличная перемена по сравнени...</td>\n",
       "      <td>0.0</td>\n",
       "    </tr>\n",
       "    <tr>\n",
       "      <th>113</th>\n",
       "      <td>&lt;user&gt; You’re a racist and a pedo</td>\n",
       "      <td>&lt;user&gt; Jesteś rasistą i pedałem</td>\n",
       "      <td>&lt;user&gt; Ты расист и педофил</td>\n",
       "      <td>0.0</td>\n",
       "    </tr>\n",
       "    <tr>\n",
       "      <th>155</th>\n",
       "      <td>&lt;user&gt; YOU CANNOT WIN YOU WILL RUIN LATIN AMER...</td>\n",
       "      <td>&lt;user&gt; NIE MOŻESZ WYGRAĆ, ZRUJNUJESZ AMERYKĘ Ł...</td>\n",
       "      <td>&lt;user&gt; YOU CANNOT WIN YOU WILL RUIN LATIN AMER...</td>\n",
       "      <td>0.0</td>\n",
       "    </tr>\n",
       "    <tr>\n",
       "      <th>172</th>\n",
       "      <td>&lt;user&gt; Black lives matter we stand with our is...</td>\n",
       "      <td>&lt;user&gt; Czarne życie ma znaczenie, stoimy z nas...</td>\n",
       "      <td>&lt;user&gt; Black lives matter we stand with our is...</td>\n",
       "      <td>0.0</td>\n",
       "    </tr>\n",
       "    <tr>\n",
       "      <th>175</th>\n",
       "      <td>&lt;user&gt; &lt;user&gt; #America is fucked either way. P...</td>\n",
       "      <td>&lt;user&gt; &lt;user&gt; #Ameryka jest spieprzona tak czy...</td>\n",
       "      <td>&lt;user&gt; &lt;user&gt; #America is fucked either way. П...</td>\n",
       "      <td>0.0</td>\n",
       "    </tr>\n",
       "    <tr>\n",
       "      <th>176</th>\n",
       "      <td>MUST BE THE DUMBEST THING EVER!!! ITS A MEDICI...</td>\n",
       "      <td>TO MUSI BYĆ NAJGŁUPSZA RZECZ W HISTORII!!! TO ...</td>\n",
       "      <td>НАВЕРНОЕ, ЭТО САМАЯ ТУПАЯ ВЕЩЬ В ИСТОРИИ!!! ЭТ...</td>\n",
       "      <td>0.0</td>\n",
       "    </tr>\n",
       "    <tr>\n",
       "      <th>192</th>\n",
       "      <td>&lt;user&gt; Donated. Now FIGHT LIKE HELL to secure ...</td>\n",
       "      <td>&lt;user&gt; Przekazano darowiznę. Teraz WALCZ JAK B...</td>\n",
       "      <td>&lt;user&gt; Пожертвовал. Теперь FIGHT LIKE HELL, чт...</td>\n",
       "      <td>0.0</td>\n",
       "    </tr>\n",
       "    <tr>\n",
       "      <th>195</th>\n",
       "      <td>&lt;user&gt; &lt;user&gt; &lt;user&gt; &lt;user&gt; &lt;user&gt; &lt;user&gt; &lt;use...</td>\n",
       "      <td>&lt;user&gt; &lt;user&gt; &lt;user&gt; &lt;user&gt; &lt;user&gt; &lt;user&gt; U LY...</td>\n",
       "      <td>&lt;user&gt; &lt;user&gt; &lt;user&gt; &lt;user&gt; &lt;user&gt; &lt;user&gt; &lt;use...</td>\n",
       "      <td>0.0</td>\n",
       "    </tr>\n",
       "    <tr>\n",
       "      <th>211</th>\n",
       "      <td>&lt;user&gt; &lt;user&gt; &lt;user&gt; &lt;user&gt; &lt;user&gt; &lt;user&gt; &lt;use...</td>\n",
       "      <td>&lt;user&gt; &lt;user&gt; &lt;user&gt; &lt;user&gt; &lt;user&gt; &lt;user&gt; &lt;use...</td>\n",
       "      <td>&lt;Я готов поспорить, что сегодня вечером или з...</td>\n",
       "      <td>0.0</td>\n",
       "    </tr>\n",
       "    <tr>\n",
       "      <th>265</th>\n",
       "      <td>&lt;user&gt; &lt;user&gt; AIMS???!🥴</td>\n",
       "      <td>&lt;user&gt; &lt;user&gt; AIMS??!🥴</td>\n",
       "      <td>&lt;user&gt; &lt;user&gt; AIMS???!🥴</td>\n",
       "      <td>0.0</td>\n",
       "    </tr>\n",
       "    <tr>\n",
       "      <th>270</th>\n",
       "      <td>&lt;user&gt; &lt;user&gt; 48 Hours &amp;amp; You’re FIRED &lt;use...</td>\n",
       "      <td>&lt;user&gt; &lt;user&gt; 48 godzin i jesteś zwolniony &lt;us...</td>\n",
       "      <td>&lt;user&gt; &lt;user&gt; 48 Hours &amp;amp; You're FIRED &lt;use...</td>\n",
       "      <td>0.0</td>\n",
       "    </tr>\n",
       "    <tr>\n",
       "      <th>299</th>\n",
       "      <td>&lt;user&gt; &lt;user&gt; &lt;user&gt; &lt;user&gt;  Is A REAL DISGRAC...</td>\n",
       "      <td>&lt;user&gt; &lt;user&gt; &lt;user&gt; &lt;user&gt; TO PRAWDZIWA SZKOD...</td>\n",
       "      <td>&lt;user&gt; &lt;user&gt; &lt;user&gt; &lt;user&gt; Is A REAL DISGRACE...</td>\n",
       "      <td>0.0</td>\n",
       "    </tr>\n",
       "  </tbody>\n",
       "</table>\n",
       "</div>"
      ],
      "text/plain": [
       "                                               Text_EN  \\\n",
       "2    <user> This earpiece too plus a wire on his sl...   \n",
       "3    <user> <user> Please lost you yelling insanely...   \n",
       "4    <user> <user> <user> Just take the L g, or fin...   \n",
       "21             <user> Drop dead you phucking criminal.   \n",
       "25   <user> <user> TRUMP GOT UNDER BIDENS SKIN IT W...   \n",
       "30                        <user> Fulla crap sleepy joe   \n",
       "57   <user> #BidenHarris2020  <user> put us though ...   \n",
       "72   <user> WHY ARE YOU SCREAMING AND YELLING AT EV...   \n",
       "86                             <user> <user> Deez Nuts   \n",
       "89   <user> <user> <user> Thats harsh words a vacci...   \n",
       "95   <user> Makes a change from the current clown i...   \n",
       "113                  <user> You’re a racist and a pedo   \n",
       "155  <user> YOU CANNOT WIN YOU WILL RUIN LATIN AMER...   \n",
       "172  <user> Black lives matter we stand with our is...   \n",
       "175  <user> <user> #America is fucked either way. P...   \n",
       "176  MUST BE THE DUMBEST THING EVER!!! ITS A MEDICI...   \n",
       "192  <user> Donated. Now FIGHT LIKE HELL to secure ...   \n",
       "195  <user> <user> <user> <user> <user> <user> <use...   \n",
       "211  <user> <user> <user> <user> <user> <user> <use...   \n",
       "265                            <user> <user> AIMS???!🥴   \n",
       "270  <user> <user> 48 Hours &amp; You’re FIRED <use...   \n",
       "299  <user> <user> <user> <user>  Is A REAL DISGRAC...   \n",
       "\n",
       "                                               Text_PL  \\\n",
       "2    <user> Ta słuchawka też plus przewód na rękawa...   \n",
       "3    <użytkownik> <użytkownik> Proszę, zgubcie się,...   \n",
       "4    <user> <user> <user> Po prostu weź L g lub zna...   \n",
       "21         <user> Padnij trupem, pieprzony przestępco.   \n",
       "25   <user> <user> TRUMP ZNALAZŁ SIĘ POD SKÓRĄ BIDE...   \n",
       "30                        <user> Fulla crap sleepy joe   \n",
       "57   <user> #BidenHarris2020 <user> umieścił nas w ...   \n",
       "72   <user> DLACZEGO WRZESZCZYSZ I KREWISZ NA WSZYS...   \n",
       "86                             <user> <user> Deez Nuts   \n",
       "89                                                       \n",
       "95   <użytkownik> Stanowi odmianę od obecnego klaun...   \n",
       "113                    <user> Jesteś rasistą i pedałem   \n",
       "155  <user> NIE MOŻESZ WYGRAĆ, ZRUJNUJESZ AMERYKĘ Ł...   \n",
       "172  <user> Czarne życie ma znaczenie, stoimy z nas...   \n",
       "175  <user> <user> #Ameryka jest spieprzona tak czy...   \n",
       "176  TO MUSI BYĆ NAJGŁUPSZA RZECZ W HISTORII!!! TO ...   \n",
       "192  <user> Przekazano darowiznę. Teraz WALCZ JAK B...   \n",
       "195  <user> <user> <user> <user> <user> <user> U LY...   \n",
       "211  <user> <user> <user> <user> <user> <user> <use...   \n",
       "265                             <user> <user> AIMS??!🥴   \n",
       "270  <user> <user> 48 godzin i jesteś zwolniony <us...   \n",
       "299  <user> <user> <user> <user> TO PRAWDZIWA SZKOD...   \n",
       "\n",
       "                                               Text_RU  Translation_quality  \n",
       "2    <user> Этот наушник тоже плюс провод на рукава...                  0.0  \n",
       "3    <user> <user> Пожалуйста, проиграли вы, безумн...                  0.0  \n",
       "4    <user> <user> <user> Просто возьми L g, или на...                  0.0  \n",
       "21             <user> Drop dead you phucking criminal.                  0.0  \n",
       "25   <user> <user> TRUMP GOT UNDER BIDENS SKIN IT W...                  0.0  \n",
       "30                      <user> Фулла дерьмо сонный Джо                  0.0  \n",
       "57   <user> #BidenHarris2020 <user> поставили нас в...                  0.0  \n",
       "72   <user> ПОЧЕМУ ТЫ СКРИМИШЬ И ОРЕШЬ НА ВСЕХ? !!!!!!                  0.0  \n",
       "86                             <user> <user> Deez Nuts                  0.0  \n",
       "89                                                                      0.0  \n",
       "95   <user> Это будет отличная перемена по сравнени...                  0.0  \n",
       "113                         <user> Ты расист и педофил                  0.0  \n",
       "155  <user> YOU CANNOT WIN YOU WILL RUIN LATIN AMER...                  0.0  \n",
       "172  <user> Black lives matter we stand with our is...                  0.0  \n",
       "175  <user> <user> #America is fucked either way. П...                  0.0  \n",
       "176  НАВЕРНОЕ, ЭТО САМАЯ ТУПАЯ ВЕЩЬ В ИСТОРИИ!!! ЭТ...                  0.0  \n",
       "192  <user> Пожертвовал. Теперь FIGHT LIKE HELL, чт...                  0.0  \n",
       "195  <user> <user> <user> <user> <user> <user> <use...                  0.0  \n",
       "211   <Я готов поспорить, что сегодня вечером или з...                  0.0  \n",
       "265                            <user> <user> AIMS???!🥴                  0.0  \n",
       "270  <user> <user> 48 Hours &amp; You're FIRED <use...                  0.0  \n",
       "299  <user> <user> <user> <user> Is A REAL DISGRACE...                  0.0  "
      ]
     },
     "execution_count": 5,
     "metadata": {},
     "output_type": "execute_result"
    }
   ],
   "source": [
    "data"
   ]
  },
  {
   "cell_type": "code",
   "execution_count": null,
   "metadata": {},
   "outputs": [],
   "source": [
    "auth_key = \"4bf5b7ed-1c9b-4dc2-85cc-0572e12f0b29:fx\"  # Replace with your key\n",
    "translator = deepl.Translator(auth_key)"
   ]
  },
  {
   "cell_type": "code",
   "execution_count": 9,
   "metadata": {},
   "outputs": [
    {
     "name": "stdout",
     "output_type": "stream",
     "text": [
      "'<user> <user> Это все те чернокожие, которых ты арестовал за ненасильственные преступления. Ты позорный и нечестный человек. Ты антинаучен и считаешь, что существует 52 пола. Что-то не так в твоем сознании, у тебя нет морали, и ты совершал оральный акт над Вилли Брауном #KamalaHarris #Biden <url>'\n"
     ]
    }
   ],
   "source": [
    "result = translator.translate_text(\"'<user> <user> These are all of the black men you arrested for non-violent crimes. You are a shameful and dishonest person. You are anti-science and think there are 52 genders. Something is not right in your mind and you have no morals and performed orals on Willie Brown #KamalaHarris #Biden <url>'\",source_lang='EN', target_lang=\"RU\", context=\"US elections 2020\", model_type='prefer_quality_optimized', preserve_formatting=True, formality='prefer_less')\n",
    "print(result.text)  # \"Bonjour, le monde !\""
   ]
  },
  {
   "cell_type": "markdown",
   "metadata": {},
   "source": [
    "# Add polish"
   ]
  },
  {
   "cell_type": "code",
   "execution_count": null,
   "metadata": {},
   "outputs": [],
   "source": [
    "results_to_list_1 = list()\n",
    "for i in range(len(data)//50):\n",
    "    results = translator.translate_text(data.iloc[50*i: 50*i+50, 0].to_list(),source_lang='EN', target_lang=\"PL\", context=\"US 2020 elections\", model_type='prefer_quality_optimized', preserve_formatting=True, formality='prefer_less')\n",
    "    for j in range(len(results)):\n",
    "        results_to_list_1.append(results[j].text)\n",
    "data['Text_PL'] = results_to_list_1"
   ]
  },
  {
   "cell_type": "code",
   "execution_count": 29,
   "metadata": {},
   "outputs": [],
   "source": [
    "data.to_parquet('data/data.parquet', engine='pyarrow')"
   ]
  },
  {
   "cell_type": "markdown",
   "metadata": {},
   "source": [
    "# Add rusian"
   ]
  },
  {
   "cell_type": "code",
   "execution_count": 43,
   "metadata": {},
   "outputs": [],
   "source": [
    "results_to_list_1 = list()\n",
    "for i in range(len(data)//50):\n",
    "    results = translator.translate_text(data.iloc[50*i: 50*i+50, 0].to_list(),source_lang='EN', target_lang=\"RU\", context=\"US 2020 elections\", model_type='prefer_quality_optimized', preserve_formatting=True, formality='prefer_less')\n",
    "    for j in range(len(results)):\n",
    "        results_to_list_1.append(results[j].text)\n",
    "data['Text_RU'] = results_to_list_1"
   ]
  },
  {
   "cell_type": "code",
   "execution_count": 44,
   "metadata": {},
   "outputs": [
    {
     "data": {
      "text/html": [
       "<div>\n",
       "<style scoped>\n",
       "    .dataframe tbody tr th:only-of-type {\n",
       "        vertical-align: middle;\n",
       "    }\n",
       "\n",
       "    .dataframe tbody tr th {\n",
       "        vertical-align: top;\n",
       "    }\n",
       "\n",
       "    .dataframe thead th {\n",
       "        text-align: right;\n",
       "    }\n",
       "</style>\n",
       "<table border=\"1\" class=\"dataframe\">\n",
       "  <thead>\n",
       "    <tr style=\"text-align: right;\">\n",
       "      <th></th>\n",
       "      <th>Text_EN</th>\n",
       "      <th>Text_PL</th>\n",
       "      <th>Text_RU</th>\n",
       "    </tr>\n",
       "  </thead>\n",
       "  <tbody>\n",
       "    <tr>\n",
       "      <th>1</th>\n",
       "      <td>&lt;user&gt; &lt;user&gt; &lt;user&gt; &lt;user&gt; Um the Kurds are h...</td>\n",
       "      <td>&lt;user&gt; &lt;user&gt; &lt;user&gt; &lt;user&gt; Um, Kurdowie pomag...</td>\n",
       "      <td>&lt;user&gt; &lt;user&gt; &lt;user&gt; &lt;user&gt; Эм, курды помогают...</td>\n",
       "    </tr>\n",
       "    <tr>\n",
       "      <th>2</th>\n",
       "      <td>&lt;user&gt; This earpiece too plus a wire on his sl...</td>\n",
       "      <td>&lt;user&gt; Ta słuchawka też plus przewód na rękawa...</td>\n",
       "      <td>&lt;user&gt; Этот наушник тоже плюс провод на рукава...</td>\n",
       "    </tr>\n",
       "    <tr>\n",
       "      <th>3</th>\n",
       "      <td>&lt;user&gt; &lt;user&gt; Please lost you yelling insanely...</td>\n",
       "      <td>&lt;użytkownik&gt; &lt;użytkownik&gt; Proszę, zgubcie się,...</td>\n",
       "      <td>&lt;user&gt; &lt;user&gt; Пожалуйста, проиграли вы, безумн...</td>\n",
       "    </tr>\n",
       "    <tr>\n",
       "      <th>4</th>\n",
       "      <td>&lt;user&gt; &lt;user&gt; &lt;user&gt; Just take the L g, or fin...</td>\n",
       "      <td>&lt;user&gt; &lt;user&gt; &lt;user&gt; Po prostu weź L g lub zna...</td>\n",
       "      <td>&lt;user&gt; &lt;user&gt; &lt;user&gt; Просто возьми L g, или на...</td>\n",
       "    </tr>\n",
       "    <tr>\n",
       "      <th>5</th>\n",
       "      <td>Elections have consequences 101:  - Republican...</td>\n",
       "      <td>Wybory mają konsekwencje 101: - Republikańscy ...</td>\n",
       "      <td>Выборы имеют последствия 101: - избиратели-рес...</td>\n",
       "    </tr>\n",
       "  </tbody>\n",
       "</table>\n",
       "</div>"
      ],
      "text/plain": [
       "                                             Text_EN  \\\n",
       "1  <user> <user> <user> <user> Um the Kurds are h...   \n",
       "2  <user> This earpiece too plus a wire on his sl...   \n",
       "3  <user> <user> Please lost you yelling insanely...   \n",
       "4  <user> <user> <user> Just take the L g, or fin...   \n",
       "5  Elections have consequences 101:  - Republican...   \n",
       "\n",
       "                                             Text_PL  \\\n",
       "1  <user> <user> <user> <user> Um, Kurdowie pomag...   \n",
       "2  <user> Ta słuchawka też plus przewód na rękawa...   \n",
       "3  <użytkownik> <użytkownik> Proszę, zgubcie się,...   \n",
       "4  <user> <user> <user> Po prostu weź L g lub zna...   \n",
       "5  Wybory mają konsekwencje 101: - Republikańscy ...   \n",
       "\n",
       "                                             Text_RU  \n",
       "1  <user> <user> <user> <user> Эм, курды помогают...  \n",
       "2  <user> Этот наушник тоже плюс провод на рукава...  \n",
       "3  <user> <user> Пожалуйста, проиграли вы, безумн...  \n",
       "4  <user> <user> <user> Просто возьми L g, или на...  \n",
       "5  Выборы имеют последствия 101: - избиратели-рес...  "
      ]
     },
     "execution_count": 44,
     "metadata": {},
     "output_type": "execute_result"
    }
   ],
   "source": [
    "data.head()"
   ]
  },
  {
   "cell_type": "code",
   "execution_count": 45,
   "metadata": {},
   "outputs": [],
   "source": [
    "data.to_parquet('data/data.parquet', engine='pyarrow')"
   ]
  },
  {
   "cell_type": "markdown",
   "metadata": {},
   "source": [
    "# Quality of translation"
   ]
  },
  {
   "cell_type": "code",
   "execution_count": 5,
   "metadata": {},
   "outputs": [],
   "source": [
    "from pprint import pprint"
   ]
  },
  {
   "cell_type": "code",
   "execution_count": 33,
   "metadata": {},
   "outputs": [
    {
     "data": {
      "text/html": [
       "<div>\n",
       "<style scoped>\n",
       "    .dataframe tbody tr th:only-of-type {\n",
       "        vertical-align: middle;\n",
       "    }\n",
       "\n",
       "    .dataframe tbody tr th {\n",
       "        vertical-align: top;\n",
       "    }\n",
       "\n",
       "    .dataframe thead th {\n",
       "        text-align: right;\n",
       "    }\n",
       "</style>\n",
       "<table border=\"1\" class=\"dataframe\">\n",
       "  <thead>\n",
       "    <tr style=\"text-align: right;\">\n",
       "      <th></th>\n",
       "      <th>Text_EN</th>\n",
       "      <th>Text_PL</th>\n",
       "      <th>Text_RU</th>\n",
       "      <th>Translation_quality</th>\n",
       "    </tr>\n",
       "  </thead>\n",
       "  <tbody>\n",
       "    <tr>\n",
       "      <th>1</th>\n",
       "      <td>&lt;user&gt; &lt;user&gt; &lt;user&gt; &lt;user&gt; Um the Kurds are h...</td>\n",
       "      <td>&lt;user&gt; &lt;user&gt; &lt;user&gt; &lt;user&gt; Um, Kurdowie pomag...</td>\n",
       "      <td>&lt;user&gt; &lt;user&gt; &lt;user&gt; &lt;user&gt; Эм, курды помогают...</td>\n",
       "      <td>1</td>\n",
       "    </tr>\n",
       "    <tr>\n",
       "      <th>2</th>\n",
       "      <td>&lt;user&gt; This earpiece too plus a wire on his sl...</td>\n",
       "      <td>&lt;user&gt; Ta słuchawka też plus przewód na rękawa...</td>\n",
       "      <td>&lt;user&gt; Этот наушник тоже плюс провод на рукава...</td>\n",
       "      <td>0</td>\n",
       "    </tr>\n",
       "    <tr>\n",
       "      <th>3</th>\n",
       "      <td>&lt;user&gt; &lt;user&gt; Please lost you yelling insanely...</td>\n",
       "      <td>&lt;użytkownik&gt; &lt;użytkownik&gt; Proszę, zgubcie się,...</td>\n",
       "      <td>&lt;user&gt; &lt;user&gt; Пожалуйста, проиграли вы, безумн...</td>\n",
       "      <td>0</td>\n",
       "    </tr>\n",
       "    <tr>\n",
       "      <th>4</th>\n",
       "      <td>&lt;user&gt; &lt;user&gt; &lt;user&gt; Just take the L g, or fin...</td>\n",
       "      <td>&lt;user&gt; &lt;user&gt; &lt;user&gt; Po prostu weź L g lub zna...</td>\n",
       "      <td>&lt;user&gt; &lt;user&gt; &lt;user&gt; Просто возьми L g, или на...</td>\n",
       "      <td>0</td>\n",
       "    </tr>\n",
       "    <tr>\n",
       "      <th>5</th>\n",
       "      <td>Elections have consequences 101:  - Republican...</td>\n",
       "      <td>Wybory mają konsekwencje 101: - Republikańscy ...</td>\n",
       "      <td>Выборы имеют последствия 101: - избиратели-рес...</td>\n",
       "      <td>1</td>\n",
       "    </tr>\n",
       "    <tr>\n",
       "      <th>...</th>\n",
       "      <td>...</td>\n",
       "      <td>...</td>\n",
       "      <td>...</td>\n",
       "      <td>...</td>\n",
       "    </tr>\n",
       "    <tr>\n",
       "      <th>296</th>\n",
       "      <td>&lt;user&gt; You damn well better stay in line!   &lt;url&gt;</td>\n",
       "      <td>&lt;user&gt; Lepiej trzymaj się w ryzach!   &lt;url&gt;</td>\n",
       "      <td>&lt;user&gt; Тебе, черт возьми, лучше оставаться в с...</td>\n",
       "      <td>&lt;NA&gt;</td>\n",
       "    </tr>\n",
       "    <tr>\n",
       "      <th>297</th>\n",
       "      <td>&lt;user&gt; &lt;user&gt; Not only that, he doesn’t seem t...</td>\n",
       "      <td>&lt;user&gt; &lt;user&gt; Nie tylko to, wydaje się nie roz...</td>\n",
       "      <td>&lt;user&gt; &lt;user&gt; Мало того, он, похоже, не понима...</td>\n",
       "      <td>&lt;NA&gt;</td>\n",
       "    </tr>\n",
       "    <tr>\n",
       "      <th>298</th>\n",
       "      <td>&lt;user&gt; &lt;user&gt; Wrong !!! 😂😂 vote for Biden baby...</td>\n",
       "      <td>&lt;user&gt; &lt;user&gt; Źle !!! 😂😂 głosuj na Bidena !!!</td>\n",
       "      <td>&lt;user&gt; &lt;user&gt; Неправильно !!! 😂😂 голосуй за Ба...</td>\n",
       "      <td>&lt;NA&gt;</td>\n",
       "    </tr>\n",
       "    <tr>\n",
       "      <th>299</th>\n",
       "      <td>&lt;user&gt; &lt;user&gt; &lt;user&gt; &lt;user&gt;  Is A REAL DISGRAC...</td>\n",
       "      <td>&lt;user&gt; &lt;user&gt; &lt;user&gt; &lt;user&gt; TO PRAWDZIWA SZKOD...</td>\n",
       "      <td>&lt;user&gt; &lt;user&gt; &lt;user&gt; &lt;user&gt; Is A REAL DISGRACE...</td>\n",
       "      <td>&lt;NA&gt;</td>\n",
       "    </tr>\n",
       "    <tr>\n",
       "      <th>300</th>\n",
       "      <td>&lt;user&gt; You don’t believe in anything Joe...  Y...</td>\n",
       "      <td>&lt;user&gt; Nie wierzysz w nic Joe...  Możesz mówić...</td>\n",
       "      <td>&lt;user&gt; Ты ни во что не веришь, Джо...  Ты може...</td>\n",
       "      <td>&lt;NA&gt;</td>\n",
       "    </tr>\n",
       "  </tbody>\n",
       "</table>\n",
       "<p>300 rows × 4 columns</p>\n",
       "</div>"
      ],
      "text/plain": [
       "                                               Text_EN  \\\n",
       "1    <user> <user> <user> <user> Um the Kurds are h...   \n",
       "2    <user> This earpiece too plus a wire on his sl...   \n",
       "3    <user> <user> Please lost you yelling insanely...   \n",
       "4    <user> <user> <user> Just take the L g, or fin...   \n",
       "5    Elections have consequences 101:  - Republican...   \n",
       "..                                                 ...   \n",
       "296  <user> You damn well better stay in line!   <url>   \n",
       "297  <user> <user> Not only that, he doesn’t seem t...   \n",
       "298  <user> <user> Wrong !!! 😂😂 vote for Biden baby...   \n",
       "299  <user> <user> <user> <user>  Is A REAL DISGRAC...   \n",
       "300  <user> You don’t believe in anything Joe...  Y...   \n",
       "\n",
       "                                               Text_PL  \\\n",
       "1    <user> <user> <user> <user> Um, Kurdowie pomag...   \n",
       "2    <user> Ta słuchawka też plus przewód na rękawa...   \n",
       "3    <użytkownik> <użytkownik> Proszę, zgubcie się,...   \n",
       "4    <user> <user> <user> Po prostu weź L g lub zna...   \n",
       "5    Wybory mają konsekwencje 101: - Republikańscy ...   \n",
       "..                                                 ...   \n",
       "296        <user> Lepiej trzymaj się w ryzach!   <url>   \n",
       "297  <user> <user> Nie tylko to, wydaje się nie roz...   \n",
       "298      <user> <user> Źle !!! 😂😂 głosuj na Bidena !!!   \n",
       "299  <user> <user> <user> <user> TO PRAWDZIWA SZKOD...   \n",
       "300  <user> Nie wierzysz w nic Joe...  Możesz mówić...   \n",
       "\n",
       "                                               Text_RU Translation_quality  \n",
       "1    <user> <user> <user> <user> Эм, курды помогают...                   1  \n",
       "2    <user> Этот наушник тоже плюс провод на рукава...                   0  \n",
       "3    <user> <user> Пожалуйста, проиграли вы, безумн...                   0  \n",
       "4    <user> <user> <user> Просто возьми L g, или на...                   0  \n",
       "5    Выборы имеют последствия 101: - избиратели-рес...                   1  \n",
       "..                                                 ...                 ...  \n",
       "296  <user> Тебе, черт возьми, лучше оставаться в с...                <NA>  \n",
       "297  <user> <user> Мало того, он, похоже, не понима...                <NA>  \n",
       "298  <user> <user> Неправильно !!! 😂😂 голосуй за Ба...                <NA>  \n",
       "299  <user> <user> <user> <user> Is A REAL DISGRACE...                <NA>  \n",
       "300  <user> Ты ни во что не веришь, Джо...  Ты може...                <NA>  \n",
       "\n",
       "[300 rows x 4 columns]"
      ]
     },
     "execution_count": 33,
     "metadata": {},
     "output_type": "execute_result"
    }
   ],
   "source": [
    "data"
   ]
  },
  {
   "cell_type": "code",
   "execution_count": 25,
   "metadata": {},
   "outputs": [],
   "source": [
    "from IPython.display import clear_output"
   ]
  },
  {
   "cell_type": "code",
   "execution_count": 28,
   "metadata": {},
   "outputs": [
    {
     "name": "stdout",
     "output_type": "stream",
     "text": [
      "('<user> You are a liar!!! #BidenCrimeFamilyExposed  Biden is a threat to '\n",
      " 'national security!! #Trump2020 and #VoteRed2020ToSaveAmerica')\n",
      "('<user> Jesteś kłamcą!!! #BidenCrimeFamilyExposed Biden jest zagrożeniem dla '\n",
      " 'bezpieczeństwa narodowego!!! #Trump2020 i #VoteRed2020ToSaveAmerica')\n",
      "('<user> Ты лжец!!! #BidenCrimeFamilyExposed Байден - угроза национальной '\n",
      " 'безопасности!!! #Trump2020 и #VoteRed2020ToSaveAmerica')\n"
     ]
    },
    {
     "ename": "ValueError",
     "evalue": "invalid literal for int() with base 10: ''",
     "output_type": "error",
     "traceback": [
      "\u001b[31m---------------------------------------------------------------------------\u001b[39m",
      "\u001b[31mValueError\u001b[39m                                Traceback (most recent call last)",
      "\u001b[36mCell\u001b[39m\u001b[36m \u001b[39m\u001b[32mIn[28]\u001b[39m\u001b[32m, line 6\u001b[39m\n\u001b[32m      4\u001b[39m pprint(data.iloc[i, \u001b[32m1\u001b[39m])\n\u001b[32m      5\u001b[39m pprint(data.iloc[i, \u001b[32m2\u001b[39m])\n\u001b[32m----> \u001b[39m\u001b[32m6\u001b[39m good = \u001b[38;5;28;43mint\u001b[39;49m\u001b[43m(\u001b[49m\u001b[38;5;28;43minput\u001b[39;49m\u001b[43m(\u001b[49m\u001b[33;43m'\u001b[39;49m\u001b[33;43mIs good?:\u001b[39;49m\u001b[33;43m'\u001b[39;49m\u001b[43m)\u001b[49m\u001b[43m)\u001b[49m\n\u001b[32m      7\u001b[39m \u001b[38;5;28;01mif\u001b[39;00m good == \u001b[32m1\u001b[39m:\n\u001b[32m      8\u001b[39m     data.at[i+\u001b[32m1\u001b[39m, \u001b[33m\"\u001b[39m\u001b[33mTranslation_quality\u001b[39m\u001b[33m\"\u001b[39m] = \u001b[32m1\u001b[39m\n",
      "\u001b[31mValueError\u001b[39m: invalid literal for int() with base 10: ''"
     ]
    }
   ],
   "source": [
    "for i in range(len(data)):\n",
    "    if data.iloc[i, :]['Translation_quality'] is pd.NA:\n",
    "        pprint(data.iloc[i, 0])\n",
    "        pprint(data.iloc[i, 1])\n",
    "        pprint(data.iloc[i, 2])\n",
    "        good = int(input('Is good?:'))\n",
    "        if good == 1:\n",
    "            data.at[i+1, \"Translation_quality\"] = 1\n",
    "        else:\n",
    "            data.at[i+1, \"Translation_quality\"] = 0\n",
    "        clear_output(wait=True)"
   ]
  },
  {
   "cell_type": "code",
   "execution_count": 24,
   "metadata": {},
   "outputs": [
    {
     "data": {
      "text/plain": [
       "'<user> <user> <user> <user> Um the Kurds are helping the ppl Of the Ukraine stop Putin/Russian military from overthrowing the Ukrainian government. Trump Endangered the lives of many by cutting US aid in an effort to extort the Ukrainian president for help winning the election Which led to his impeachment .'"
      ]
     },
     "execution_count": 24,
     "metadata": {},
     "output_type": "execute_result"
    }
   ],
   "source": [
    "data.at[1, 'Text_EN']"
   ]
  },
  {
   "cell_type": "markdown",
   "metadata": {},
   "source": [
    "# EDA of Quality"
   ]
  },
  {
   "cell_type": "code",
   "execution_count": 3,
   "metadata": {},
   "outputs": [
    {
     "data": {
      "text/html": [
       "<div>\n",
       "<style scoped>\n",
       "    .dataframe tbody tr th:only-of-type {\n",
       "        vertical-align: middle;\n",
       "    }\n",
       "\n",
       "    .dataframe tbody tr th {\n",
       "        vertical-align: top;\n",
       "    }\n",
       "\n",
       "    .dataframe thead th {\n",
       "        text-align: right;\n",
       "    }\n",
       "</style>\n",
       "<table border=\"1\" class=\"dataframe\">\n",
       "  <thead>\n",
       "    <tr style=\"text-align: right;\">\n",
       "      <th></th>\n",
       "      <th>Text_EN</th>\n",
       "      <th>Text_PL</th>\n",
       "      <th>Text_RU</th>\n",
       "      <th>Translation_quality</th>\n",
       "    </tr>\n",
       "  </thead>\n",
       "  <tbody>\n",
       "    <tr>\n",
       "      <th>1</th>\n",
       "      <td>&lt;user&gt; &lt;user&gt; &lt;user&gt; &lt;user&gt; Um the Kurds are h...</td>\n",
       "      <td>&lt;user&gt; &lt;user&gt; &lt;user&gt; &lt;user&gt; Um, Kurdowie pomag...</td>\n",
       "      <td>&lt;user&gt; &lt;user&gt; &lt;user&gt; &lt;user&gt; Эм, курды помогают...</td>\n",
       "      <td>1.0</td>\n",
       "    </tr>\n",
       "    <tr>\n",
       "      <th>2</th>\n",
       "      <td>&lt;user&gt; This earpiece too plus a wire on his sl...</td>\n",
       "      <td>&lt;user&gt; Ta słuchawka też plus przewód na rękawa...</td>\n",
       "      <td>&lt;user&gt; Этот наушник тоже плюс провод на рукава...</td>\n",
       "      <td>0.0</td>\n",
       "    </tr>\n",
       "    <tr>\n",
       "      <th>3</th>\n",
       "      <td>&lt;user&gt; &lt;user&gt; Please lost you yelling insanely...</td>\n",
       "      <td>&lt;użytkownik&gt; &lt;użytkownik&gt; Proszę, zgubcie się,...</td>\n",
       "      <td>&lt;user&gt; &lt;user&gt; Пожалуйста, проиграли вы, безумн...</td>\n",
       "      <td>0.0</td>\n",
       "    </tr>\n",
       "    <tr>\n",
       "      <th>4</th>\n",
       "      <td>&lt;user&gt; &lt;user&gt; &lt;user&gt; Just take the L g, or fin...</td>\n",
       "      <td>&lt;user&gt; &lt;user&gt; &lt;user&gt; Po prostu weź L g lub zna...</td>\n",
       "      <td>&lt;user&gt; &lt;user&gt; &lt;user&gt; Просто возьми L g, или на...</td>\n",
       "      <td>0.0</td>\n",
       "    </tr>\n",
       "    <tr>\n",
       "      <th>5</th>\n",
       "      <td>Elections have consequences 101:  - Republican...</td>\n",
       "      <td>Wybory mają konsekwencje 101: - Republikańscy ...</td>\n",
       "      <td>Выборы имеют последствия 101: - избиратели-рес...</td>\n",
       "      <td>1.0</td>\n",
       "    </tr>\n",
       "  </tbody>\n",
       "</table>\n",
       "</div>"
      ],
      "text/plain": [
       "                                             Text_EN  \\\n",
       "1  <user> <user> <user> <user> Um the Kurds are h...   \n",
       "2  <user> This earpiece too plus a wire on his sl...   \n",
       "3  <user> <user> Please lost you yelling insanely...   \n",
       "4  <user> <user> <user> Just take the L g, or fin...   \n",
       "5  Elections have consequences 101:  - Republican...   \n",
       "\n",
       "                                             Text_PL  \\\n",
       "1  <user> <user> <user> <user> Um, Kurdowie pomag...   \n",
       "2  <user> Ta słuchawka też plus przewód na rękawa...   \n",
       "3  <użytkownik> <użytkownik> Proszę, zgubcie się,...   \n",
       "4  <user> <user> <user> Po prostu weź L g lub zna...   \n",
       "5  Wybory mają konsekwencje 101: - Republikańscy ...   \n",
       "\n",
       "                                             Text_RU  Translation_quality  \n",
       "1  <user> <user> <user> <user> Эм, курды помогают...                  1.0  \n",
       "2  <user> Этот наушник тоже плюс провод на рукава...                  0.0  \n",
       "3  <user> <user> Пожалуйста, проиграли вы, безумн...                  0.0  \n",
       "4  <user> <user> <user> Просто возьми L g, или на...                  0.0  \n",
       "5  Выборы имеют последствия 101: - избиратели-рес...                  1.0  "
      ]
     },
     "execution_count": 3,
     "metadata": {},
     "output_type": "execute_result"
    }
   ],
   "source": [
    "data.head()"
   ]
  },
  {
   "cell_type": "code",
   "execution_count": 8,
   "metadata": {},
   "outputs": [
    {
     "name": "stdout",
     "output_type": "stream",
     "text": [
      "       Translation_quality\n",
      "count           300.000000\n",
      "mean              0.926667\n",
      "std               0.261118\n",
      "min               0.000000\n",
      "25%               1.000000\n",
      "50%               1.000000\n",
      "75%               1.000000\n",
      "max               1.000000\n",
      "Bad translations:  22\n"
     ]
    }
   ],
   "source": [
    "print(data.describe())\n",
    "print(\"Bad translations: \", len(data[data['Translation_quality'] == 0]))"
   ]
  },
  {
   "cell_type": "code",
   "execution_count": 10,
   "metadata": {},
   "outputs": [],
   "source": [
    "data[data['Translation_quality'] == 0].to_parquet('data/bad_translation.parquet', engine='pyarrow')"
   ]
  },
  {
   "cell_type": "markdown",
   "metadata": {},
   "source": [
    "# Manual correction"
   ]
  },
  {
   "cell_type": "code",
   "execution_count": 117,
   "metadata": {},
   "outputs": [
    {
     "data": {
      "text/html": [
       "<div>\n",
       "<style scoped>\n",
       "    .dataframe tbody tr th:only-of-type {\n",
       "        vertical-align: middle;\n",
       "    }\n",
       "\n",
       "    .dataframe tbody tr th {\n",
       "        vertical-align: top;\n",
       "    }\n",
       "\n",
       "    .dataframe thead th {\n",
       "        text-align: right;\n",
       "    }\n",
       "</style>\n",
       "<table border=\"1\" class=\"dataframe\">\n",
       "  <thead>\n",
       "    <tr style=\"text-align: right;\">\n",
       "      <th></th>\n",
       "      <th>Text_EN</th>\n",
       "      <th>Text_PL</th>\n",
       "      <th>Text_RU</th>\n",
       "      <th>Translation_quality</th>\n",
       "    </tr>\n",
       "  </thead>\n",
       "  <tbody>\n",
       "    <tr>\n",
       "      <th>4</th>\n",
       "      <td>&lt;user&gt; &lt;user&gt; &lt;user&gt; Just take the L g, or fin...</td>\n",
       "      <td>&lt;user&gt; &lt;user&gt; &lt;user&gt; Po prostu weź L g lub zna...</td>\n",
       "      <td>&lt;user&gt; &lt;user&gt; &lt;user&gt; Просто возьми L g, или на...</td>\n",
       "      <td>0.0</td>\n",
       "    </tr>\n",
       "    <tr>\n",
       "      <th>86</th>\n",
       "      <td>&lt;user&gt; &lt;user&gt; Deez Nuts</td>\n",
       "      <td>&lt;user&gt; &lt;user&gt; Deez Nuts</td>\n",
       "      <td>&lt;user&gt; &lt;user&gt; Deez Nuts</td>\n",
       "      <td>0.0</td>\n",
       "    </tr>\n",
       "    <tr>\n",
       "      <th>265</th>\n",
       "      <td>&lt;user&gt; &lt;user&gt; AIMS???!🥴</td>\n",
       "      <td>&lt;user&gt; &lt;user&gt; AIMS??!🥴</td>\n",
       "      <td>&lt;user&gt; &lt;user&gt; AIMS???!🥴</td>\n",
       "      <td>0.0</td>\n",
       "    </tr>\n",
       "  </tbody>\n",
       "</table>\n",
       "</div>"
      ],
      "text/plain": [
       "                                               Text_EN  \\\n",
       "4    <user> <user> <user> Just take the L g, or fin...   \n",
       "86                             <user> <user> Deez Nuts   \n",
       "265                            <user> <user> AIMS???!🥴   \n",
       "\n",
       "                                               Text_PL  \\\n",
       "4    <user> <user> <user> Po prostu weź L g lub zna...   \n",
       "86                             <user> <user> Deez Nuts   \n",
       "265                             <user> <user> AIMS??!🥴   \n",
       "\n",
       "                                               Text_RU  Translation_quality  \n",
       "4    <user> <user> <user> Просто возьми L g, или на...                  0.0  \n",
       "86                             <user> <user> Deez Nuts                  0.0  \n",
       "265                            <user> <user> AIMS???!🥴                  0.0  "
      ]
     },
     "execution_count": 117,
     "metadata": {},
     "output_type": "execute_result"
    }
   ],
   "source": [
    "data[data[\"Translation_quality\"] == 0]"
   ]
  },
  {
   "cell_type": "code",
   "execution_count": 116,
   "metadata": {},
   "outputs": [
    {
     "name": "stdout",
     "output_type": "stream",
     "text": [
      "<user> <user> <user> <user>  Is A REAL DISGRACE...!\n",
      "<user> <user> <user> <user> TO PRAWDZIWA SZKODA...!\n",
      "<user> <user> <user> <user> Это настоящий позор...!\n",
      "299\n"
     ]
    }
   ],
   "source": [
    "i = 299\n",
    "print(data.at[i, 'Text_EN'])\n",
    "print(data.at[i, 'Text_PL'])\n",
    "print(data.at[i, 'Text_RU'])\n",
    "print(i)\n"
   ]
  },
  {
   "cell_type": "code",
   "execution_count": 115,
   "metadata": {},
   "outputs": [
    {
     "name": "stdout",
     "output_type": "stream",
     "text": [
      "<user> <user> <user> <user> TO PRAWDZIWA SZKODA...!\n",
      "<user> <user> <user> <user> Это настоящий позор...!\n"
     ]
    }
   ],
   "source": [
    "# data.at[i, 'Text_PL'] = \"\"\"<user> <user> 48 godzin i jesteś zwolniony <user> #ZAGŁOSUJ <user>\"\"\"\n",
    "data.at[i, 'Text_RU'] = \"\"\"<user> <user> <user> <user> Это настоящий позор...!\"\"\"\n",
    "data.at[i, 'Translation_quality'] = 1\n",
    "\n",
    "print(data.at[i, 'Text_PL'])\n",
    "print(data.at[i, 'Text_RU'])"
   ]
  },
  {
   "cell_type": "code",
   "execution_count": 118,
   "metadata": {},
   "outputs": [],
   "source": [
    "data.to_parquet('data/data.parquet', engine='pyarrow')"
   ]
  }
 ],
 "metadata": {
  "kernelspec": {
   "display_name": ".venv",
   "language": "python",
   "name": "python3"
  },
  "language_info": {
   "codemirror_mode": {
    "name": "ipython",
    "version": 3
   },
   "file_extension": ".py",
   "mimetype": "text/x-python",
   "name": "python",
   "nbconvert_exporter": "python",
   "pygments_lexer": "ipython3",
   "version": "3.13.3"
  }
 },
 "nbformat": 4,
 "nbformat_minor": 2
}
