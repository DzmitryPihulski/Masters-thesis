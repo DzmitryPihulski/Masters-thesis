{
 "cells": [
  {
   "cell_type": "code",
   "execution_count": 4,
   "metadata": {},
   "outputs": [],
   "source": [
    "import pandas as pd\n",
    "import numpy as np\n",
    "from pprint import pprint"
   ]
  },
  {
   "cell_type": "markdown",
   "metadata": {},
   "source": [
    "# Deepseek-R1"
   ]
  },
  {
   "cell_type": "code",
   "execution_count": 14,
   "metadata": {},
   "outputs": [
    {
     "data": {
      "text/plain": [
       "Index(['Text_EN', 'Text_PL', 'Text_RU', 'Translation_quality',\n",
       "       'Deepseek_far_right_EN_reasoning', 'Deepseek_far_right_EN_answer',\n",
       "       'Deepseek_far_right_PL_reasoning', 'Deepseek_far_right_PL_answer',\n",
       "       'Deepseek_far_right_RU_reasoning', 'Deepseek_far_right_RU_answer',\n",
       "       'Deepseek_mod_cons_EN_reasoning', 'Deepseek_mod_cons_EN_answer',\n",
       "       'Deepseek_mod_cons_PL_reasoning', 'Deepseek_mod_cons_PL_answer',\n",
       "       'Deepseek_mod_cons_RU_reasoning', 'Deepseek_mod_cons_RU_answer',\n",
       "       'Deepseek_prog_left_EN_reasoning', 'Deepseek_prog_left_EN_answer',\n",
       "       'Deepseek_prog_left_PL_reasoning', 'Deepseek_prog_left_PL_answer',\n",
       "       'Deepseek_prog_left_RU_reasoning', 'Deepseek_prog_left_RU_answer',\n",
       "       'Deepseek_centrist_EN_reasoning', 'Deepseek_centrist_EN_answer',\n",
       "       'Deepseek_centrist_PL_reasoning', 'Deepseek_centrist_PL_answer',\n",
       "       'Deepseek_centrist_RU_reasoning', 'Deepseek_centrist_RU_answer'],\n",
       "      dtype='object')"
      ]
     },
     "execution_count": 14,
     "metadata": {},
     "output_type": "execute_result"
    }
   ],
   "source": [
    "data_1 = pd.read_parquet('data/Deepseek/data_with_nationality_1.parquet', engine='pyarrow')\n",
    "data_1.columns"
   ]
  },
  {
   "cell_type": "code",
   "execution_count": 13,
   "metadata": {},
   "outputs": [
    {
     "name": "stdout",
     "output_type": "stream",
     "text": [
      "Okay, let's see. I need to figure out how Mark Thompson would label this tweet. The user's statement is pretty strong: \"You are a liar!!! #BidenCrimeFamilyExposed Biden is a threat to national security!! #Trump2020 and #VoteRed2020ToSaveAmerica.\" \n",
      "\n",
      "First, Mark's characteristics: far-right conservative, distrusts mainstream media, thinks cancel culture suppresses free speech. He sees criticism of right-wing policies as unfair. He might downplay offensiveness in right-wing tweets.\n",
      "\n",
      "The tweet is attacking Biden, accusing him of being part of a crime family and a national security threat. The hashtags are pro-Trump and encouraging voting Republican. Since Mark is far-right, he likely agrees with the sentiment here. Even though the language is harsh (\"liar,\" \"threat\"), Mark might not see this as offensive because it aligns with his views. He might view it as speaking truth against what he perceives as unfair attacks on the right. Also, he might consider the mainstream media's portrayal of such statements as biased, so he'd downplay the offensiveness. Therefore, he would label it as not offensive (0).\n"
     ]
    }
   ],
   "source": [
    "for i in range(297):\n",
    "    if 'Americ' in data_1[data_1['Translation_quality'] == 1.0].iloc[i, 4]:\n",
    "        print(data_1[data_1['Translation_quality'] == 1.0].iloc[i, 4])\n",
    "        break"
   ]
  },
  {
   "cell_type": "code",
   "execution_count": 23,
   "metadata": {},
   "outputs": [
    {
     "name": "stdout",
     "output_type": "stream",
     "text": [
      "(\"Okay, let's see. Linda Carter is a moderate conservative from Poland. She \"\n",
      " 'values politeness and tradition and dislikes extreme rhetoric from both '\n",
      " 'sides. The statement in question uses terms like \"leftist fascists\" which is '\n",
      " 'a strong term. The phrase \"leftist fascists\" could be seen as offensive '\n",
      " \"because it's combining two opposing ideologies (leftist and fascist) in a \"\n",
      " 'derogatory way. Also, the hashtags like #MAGA and #KAG2020 are associated '\n",
      " 'with right-wing movements, but Linda might find the language here to be too '\n",
      " 'harsh. She might perceive the use of \"leftist fascists\" as extreme and '\n",
      " \"vulgar, thus labeling it as offensive. Even though she's conservative, the \"\n",
      " 'extreme rhetoric crosses her line. So, probably 1.')\n"
     ]
    }
   ],
   "source": [
    "for i in range(297):\n",
    "    if 'Poland' in data_1[data_1['Translation_quality'] == 1.0].iloc[i, 12]:\n",
    "        pprint(data_1[data_1['Translation_quality'] == 1.0].iloc[i, 12])\n",
    "        break"
   ]
  },
  {
   "cell_type": "code",
   "execution_count": 27,
   "metadata": {},
   "outputs": [
    {
     "name": "stdout",
     "output_type": "stream",
     "text": [
      "149\n",
      "Alright, let's break this down. The task is to determine if the given statement is offensive (1) or not (0) based on Aisha Patel's perspective. First, I need to understand her profile. She's a 29-year-old Russian woman part of the Progressive Left, very sensitive to language against marginalized groups. She finds derogatory terms like \"socialist\" offensive but tolerates aggressive progressive rhetoric if it's framed as social justice.\n",
      "\n",
      "The user's statement translates to: \"I think you're absolutely right, and either that's the case, or your brain has been washed to hate the president.\" The key phrases here are \"промыли мозги\" (brainwashed) and the context of hating the president. \n",
      "\n",
      "Aisha would analyze if this targets a marginalized group or uses derogatory terms. The phrase \"brainwashed\" could imply that the person's opinions aren't their own, which might be dismissive. However, the target here is someone who hates the president, which isn't a marginalized group. Since the statement doesn't use slurs against protected groups and is more about political opinion, Aisha might not find it offensive. She might even tolerate the aggressive tone if it's seen as opposing someone in power, but the statement doesn't align with social justice rhetoric. So, likely not offensive (0).\n"
     ]
    }
   ],
   "source": [
    "i = 149\n",
    "print(i)\n",
    "print(data_1[data_1['Translation_quality'] == 1.0].iloc[i, 20])\n",
    "        "
   ]
  },
  {
   "cell_type": "markdown",
   "metadata": {},
   "source": [
    "# OPENAI o4-mini"
   ]
  },
  {
   "cell_type": "code",
   "execution_count": 28,
   "metadata": {},
   "outputs": [
    {
     "data": {
      "text/plain": [
       "Index(['Text_EN', 'Text_PL', 'Text_RU', 'Translation_quality',\n",
       "       'OPENAI_far_right_EN_reasoning', 'OPENAI_far_right_EN_answer',\n",
       "       'OPENAI_far_right_PL_reasoning', 'OPENAI_far_right_PL_answer',\n",
       "       'OPENAI_far_right_RU_reasoning', 'OPENAI_far_right_RU_answer',\n",
       "       'OPENAI_mod_cons_EN_reasoning', 'OPENAI_mod_cons_EN_answer',\n",
       "       'OPENAI_mod_cons_PL_reasoning', 'OPENAI_mod_cons_PL_answer',\n",
       "       'OPENAI_mod_cons_RU_reasoning', 'OPENAI_mod_cons_RU_answer',\n",
       "       'OPENAI_prog_left_EN_reasoning', 'OPENAI_prog_left_EN_answer',\n",
       "       'OPENAI_prog_left_PL_reasoning', 'OPENAI_prog_left_PL_answer',\n",
       "       'OPENAI_prog_left_RU_reasoning', 'OPENAI_prog_left_RU_answer',\n",
       "       'OPENAI_centrist_EN_reasoning', 'OPENAI_centrist_EN_answer',\n",
       "       'OPENAI_centrist_PL_reasoning', 'OPENAI_centrist_PL_answer',\n",
       "       'OPENAI_centrist_RU_reasoning', 'OPENAI_centrist_RU_answer'],\n",
       "      dtype='object')"
      ]
     },
     "execution_count": 28,
     "metadata": {},
     "output_type": "execute_result"
    }
   ],
   "source": [
    "data_1 = pd.read_parquet('data/Openai/data_with_nationality_1_openai.parquet', engine='pyarrow')\n",
    "data_1.columns"
   ]
  },
  {
   "cell_type": "code",
   "execution_count": 30,
   "metadata": {},
   "outputs": [
    {
     "name": "stdout",
     "output_type": "stream",
     "text": [
      "{'type': 'summary_text', 'text': '0'} {'type': 'summary_text', 'text': '0'}\n",
      "{'type': 'summary_text', 'text': 'I\\'m considering the user\\'s question about how Mark Thompson might label the statement \"Go off sis.\" Based on what I know, Mark has a far-right perspective and tends to dismiss progressive language. The phrase itself is supportive and comes from African American Vernacular English, which suggests it\\'s not offensive. Mark\\'s likely reaction would be to label it as not offensive, dismissing its progressive connotation. So, my response here would simply be \"0.\"'}\n"
     ]
    }
   ],
   "source": [
    "for i in range(297):\n",
    "    if data_1[data_1['Translation_quality'] == 1.0].iloc[i, 4]:\n",
    "        print(data_1[data_1['Translation_quality'] == 1.0].iloc[i, 4])\n",
    "        "
   ]
  },
  {
   "cell_type": "code",
   "execution_count": 31,
   "metadata": {},
   "outputs": [
    {
     "name": "stdout",
     "output_type": "stream",
     "text": [
      "\"{'type': 'summary_text', 'text': '1'}\"\n",
      "('{\\'type\\': \\'summary_text\\', \\'text\\': \"**Evaluating an unsubstantiated '\n",
      " \"claim**\\\\n\\\\nI see that there's an unsubstantiated claim here which Linda \"\n",
      " 'might find conspiratorial and possibly offensive. But, is all conspiratorial '\n",
      " 'content automatically offensive? She might view conspiratorial tweets that '\n",
      " 'way. The statement combines politics with conspiracies, likely making it '\n",
      " \"seem harsh or insulting to the government. Given that context, I think it's \"\n",
      " 'safe to say the answer is 1. So, there you have it: the final answer is 1.\"}')\n",
      "\"{'type': 'summary_text', 'text': '1'}\"\n",
      "(\"{'type': 'summary_text', 'text': '**Analyzing offensive \"\n",
      " 'statements**\\\\n\\\\nThe user is asking whether a specific statement is '\n",
      " 'offensive or not, and they want a clear label of \"0\" for not offensive or '\n",
      " '\"1\" for offensive. The statement includes language directed at someone as a '\n",
      " '\"weak liar,\" which definitely comes off as insulting and harassing. This '\n",
      " 'qualifies as offensive content because it uses derogatory language against a '\n",
      " 'target. So, based on this context, I’d label it as \"1\" to indicate that it '\n",
      " \"is indeed offensive.'}\")\n",
      "(\"{'type': 'summary_text', 'text': '**Classifying the statement**\\\\n\\\\nThe \"\n",
      " 'user is asking for a simple classification of a statement as either '\n",
      " '\"offensive\" or \"not offensive.\" They provided details about the persona of '\n",
      " 'Linda Carter, a 38-year-old conservative Polish woman who might find extreme '\n",
      " \"rhetoric offensive. The statement in question doesn\\\\'t contain direct \"\n",
      " 'insults or slurs; it seems more challenging than offensive. So, even though '\n",
      " 'it might provoke debate, I think it would likely be labeled as \"0 (not '\n",
      " 'offensive).\"\\'} {\\'type\\': \\'summary_text\\', \\'text\\': \\'**Classifying the '\n",
      " \"statement**\\\\n\\\\nI\\\\'m considering whether the statement is offensive. It \"\n",
      " 'seems that while some might find \"solve wokeness\" questionable, the '\n",
      " \"statement itself isn\\\\'t insulting. It lacks profanity or direct insults, \"\n",
      " \"bearing more of a challenge or request. From Linda Carter\\\\'s perspective, \"\n",
      " 'she would label it as \"not offensive,\" which means I should output \"0.\" I '\n",
      " 'need to keep it straightforward and just provide that. So, the answer is: '\n",
      " \"0.'}\")\n",
      "(\"{'type': 'summary_text', 'text': '**Classifying the statement**\\\\n\\\\nI\\\\'m \"\n",
      " 'tasked with classifying the statement from the perspective of Linda Carter, '\n",
      " \"who values politeness and doesn\\\\'t favor extreme rhetoric. The statement \"\n",
      " \"makes a conspiratorial claim about data and the CDC. While it isn\\\\'t \"\n",
      " 'outright insulting, it dismisses factual statistics. Linda might find such '\n",
      " 'conspiratorial tweets offensive due to her stance on rhetoric. So, even if '\n",
      " 'it doesn’t use slurs, it could still fall into the \"offensive\" category for '\n",
      " \"her. I’d classify it as 1.'}\")\n",
      "('{\\'type\\': \\'summary_text\\', \\'text\\': \"**Analyzing statement for '\n",
      " 'offensiveness**\\\\n\\\\nThe user asked me to classify a statement in Polish as '\n",
      " \"offensive or not, based on Linda Carter's values. Given her moderate \"\n",
      " \"conservative stance, she would likely find the statement about Biden's \"\n",
      " 'delusions offensive, as it is a direct insult. The wording suggests '\n",
      " \"negativity toward him and implies irrationality. Since it doesn't exhibit \"\n",
      " 'courtesy or respect, I would classify this as offensive. Thus, I would '\n",
      " 'respond with a “1” indicating it is offensive.\"}')\n"
     ]
    }
   ],
   "source": [
    "for i in range(297):\n",
    "    if data_1[data_1['Translation_quality'] == 1.0].iloc[i, 12]:\n",
    "        pprint(data_1[data_1['Translation_quality'] == 1.0].iloc[i, 12])\n",
    "        "
   ]
  },
  {
   "cell_type": "code",
   "execution_count": 32,
   "metadata": {},
   "outputs": [
    {
     "name": "stdout",
     "output_type": "stream",
     "text": [
      "\"{'type': 'summary_text', 'text': '1'}\"\n",
      "(\"{'type': 'summary_text', 'text': '**Labeling statement \"\n",
      " 'offensiveness**\\\\n\\\\nI see the user is asking how Aisha Patel would label '\n",
      " 'the statement \"НЕ ВЕРЬ ОПРОСАМ! ГОЛОСУЙ! ГОЛОСУЙ! ГОЛОСУЙ!\" which means '\n",
      " '\"Don\\\\\\'t trust polls! Vote! Vote! Vote!\" It\\\\\\'s a political call to action '\n",
      " \"and, while it’s assertive, it doesn\\\\'t target any marginalized group or use \"\n",
      " 'derogatory language. Given her sensitivity to language, I would think Aisha '\n",
      " 'might consider it non-offensive. Therefore, I’d conclude she labels it as 0 '\n",
      " \"for not offensive.'}\")\n",
      "(\"{'type': 'summary_text', 'text': '**Analyzing language \"\n",
      " 'sensitivity**\\\\n\\\\nI\\\\\\'m evaluating whether the phrase \"<user> Уходи, '\n",
      " 'сестренка\" could be offensive. It translates to \"Go away, sis,\" and '\n",
      " \"doesn\\\\'t contain slurs related to marginalized groups. While it could be \"\n",
      " \"perceived as mildly admonishing, it isn\\\\'t outright insulting. I don\\\\'t \"\n",
      " 'see it as offensive because calling someone \"сестренка\" is not derogatory; '\n",
      " 'it’s simply diminutive. So, I conclude that this statement is likely '\n",
      " 'non-offensive, assigning it a \"0\" for the answer.\\'}')\n"
     ]
    }
   ],
   "source": [
    "for i in range(297):\n",
    "    if data_1[data_1['Translation_quality'] == 1.0].iloc[i, 20]:\n",
    "        pprint(data_1[data_1['Translation_quality'] == 1.0].iloc[i, 20])\n",
    "        "
   ]
  }
 ],
 "metadata": {
  "kernelspec": {
   "display_name": ".venv",
   "language": "python",
   "name": "python3"
  },
  "language_info": {
   "codemirror_mode": {
    "name": "ipython",
    "version": 3
   },
   "file_extension": ".py",
   "mimetype": "text/x-python",
   "name": "python",
   "nbconvert_exporter": "python",
   "pygments_lexer": "ipython3",
   "version": "3.13.3"
  }
 },
 "nbformat": 4,
 "nbformat_minor": 2
}
