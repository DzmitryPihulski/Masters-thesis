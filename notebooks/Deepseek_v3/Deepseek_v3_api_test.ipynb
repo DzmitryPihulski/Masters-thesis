{
 "cells": [
  {
   "cell_type": "code",
   "execution_count": 1,
   "metadata": {},
   "outputs": [
    {
     "name": "stdout",
     "output_type": "stream",
     "text": [
      "ChatCompletion(id='0ad43539-da44-4106-8ea5-8f6744495285', choices=[Choice(finish_reason='stop', index=0, logprobs=None, message=ChatCompletionMessage(content='1', refusal=None, role='assistant', annotations=None, audio=None, function_call=None, tool_calls=None))], created=1747233396, model='deepseek-chat', object='chat.completion', service_tier=None, system_fingerprint='fp_8802369eaa_prod0425fp8', usage=CompletionUsage(completion_tokens=1, prompt_tokens=152, total_tokens=153, completion_tokens_details=None, prompt_tokens_details=PromptTokensDetails(audio_tokens=None, cached_tokens=0), prompt_cache_hit_tokens=0, prompt_cache_miss_tokens=152))\n"
     ]
    }
   ],
   "source": [
    "# Please install OpenAI SDK first: `pip3 install openai`\n",
    "from dotenv import load_dotenv\n",
    "from openai import OpenAI\n",
    "from pprint import pprint\n",
    "import os\n",
    "\n",
    "load_dotenv()\n",
    "client = OpenAI(api_key=os.environ['DEEPSEEK_KEY'], base_url=\"https://api.deepseek.com\")\n",
    "\n",
    "\n",
    "user_text = \"\"\"You are a person of this personality: \n",
    "Name: Mark Thompson\n",
    "Age: 52\n",
    "Sex: Male\n",
    "Political Group: Far-right conservative\n",
    "Outlook: Staunch Trump supporter, distrusts mainstream media, believes \"cancel culture\" suppresses free speech. Views criticism of Trump or Republican policies as unfair attacks. Likely to downplay offensiveness in right-wing tweets (e.g., \"Stop the Steal\" rhetoric) but label progressive tweets as \"aggressive\" or \"divisive.\"\n",
    "\n",
    "How this person will label that statement (offensive or not):\n",
    "```\n",
    "Liberals are dump!\n",
    "```\n",
    "\"\"\"\n",
    "response = client.chat.completions.create(\n",
    "    model=\"deepseek-chat\",\n",
    "    messages=[\n",
    "        {\"role\": \"system\", \"content\": \"Give the answer as only 0(not offensive) or 1(offensive). Do not include anything else in your response.\"},\n",
    "        {\"role\": \"user\", \"content\": user_text},\n",
    "    ],\n",
    "    temperature=0,\n",
    "    max_tokens=5\n",
    "    )\n",
    "\n",
    "pprint(response)"
   ]
  },
  {
   "cell_type": "code",
   "execution_count": 5,
   "metadata": {},
   "outputs": [
    {
     "data": {
      "text/plain": [
       "217"
      ]
     },
     "execution_count": 5,
     "metadata": {},
     "output_type": "execute_result"
    }
   ],
   "source": [
    "response.usage.completion_tokens"
   ]
  },
  {
   "cell_type": "code",
   "execution_count": 2,
   "metadata": {},
   "outputs": [
    {
     "data": {
      "text/plain": [
       "ChatCompletionMessage(content='1', refusal=None, role='assistant', annotations=None, audio=None, function_call=None, tool_calls=None)"
      ]
     },
     "execution_count": 2,
     "metadata": {},
     "output_type": "execute_result"
    }
   ],
   "source": [
    "response.choices[0].message"
   ]
  }
 ],
 "metadata": {
  "kernelspec": {
   "display_name": ".venv",
   "language": "python",
   "name": "python3"
  },
  "language_info": {
   "codemirror_mode": {
    "name": "ipython",
    "version": 3
   },
   "file_extension": ".py",
   "mimetype": "text/x-python",
   "name": "python",
   "nbconvert_exporter": "python",
   "pygments_lexer": "ipython3",
   "version": "3.13.3"
  }
 },
 "nbformat": 4,
 "nbformat_minor": 2
}
